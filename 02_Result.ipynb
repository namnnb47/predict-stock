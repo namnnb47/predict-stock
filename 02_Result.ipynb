{
  "nbformat": 4,
  "nbformat_minor": 0,
  "metadata": {
    "colab": {
      "name": "02. Result.ipynb",
      "provenance": [],
      "collapsed_sections": []
    },
    "kernelspec": {
      "name": "python3",
      "display_name": "Python 3"
    },
    "accelerator": "GPU"
  },
  "cells": [
    {
      "cell_type": "code",
      "metadata": {
        "id": "R23OyVbjBBvW",
        "colab_type": "code",
        "colab": {}
      },
      "source": [
        "%reload_ext autoreload\n",
        "%autoreload 2\n",
        "%matplotlib inline"
      ],
      "execution_count": 0,
      "outputs": []
    },
    {
      "cell_type": "code",
      "metadata": {
        "id": "MOJ5rxTABFXe",
        "colab_type": "code",
        "colab": {}
      },
      "source": [
        "import pandas as pd\n",
        "import numpy as np\n",
        "import matplotlib.pyplot as plt"
      ],
      "execution_count": 0,
      "outputs": []
    },
    {
      "cell_type": "code",
      "metadata": {
        "id": "CZdxDLDBBVEw",
        "colab_type": "code",
        "outputId": "b101e264-e682-4a77-ebcc-6bd2cb950ba0",
        "colab": {
          "base_uri": "https://localhost:8080/",
          "height": 81
        }
      },
      "source": [
        "from keras.models import Model\n",
        "from keras.layers import Input, Dense, Embedding, Concatenate, Flatten, BatchNormalization\n",
        "from keras.losses import binary_crossentropy, mse"
      ],
      "execution_count": 0,
      "outputs": [
        {
          "output_type": "stream",
          "text": [
            "Using TensorFlow backend.\n"
          ],
          "name": "stderr"
        },
        {
          "output_type": "display_data",
          "data": {
            "text/html": [
              "<p style=\"color: red;\">\n",
              "The default version of TensorFlow in Colab will soon switch to TensorFlow 2.x.<br>\n",
              "We recommend you <a href=\"https://www.tensorflow.org/guide/migrate\" target=\"_blank\">upgrade</a> now \n",
              "or ensure your notebook will continue to use TensorFlow 1.x via the <code>%tensorflow_version 1.x</code> magic:\n",
              "<a href=\"https://colab.research.google.com/notebooks/tensorflow_version.ipynb\" target=\"_blank\">more info</a>.</p>\n"
            ],
            "text/plain": [
              "<IPython.core.display.HTML object>"
            ]
          },
          "metadata": {
            "tags": []
          }
        }
      ]
    },
    {
      "cell_type": "markdown",
      "metadata": {
        "id": "2E4MubWKA5G7",
        "colab_type": "text"
      },
      "source": [
        "# mount ggdrive loading test_df"
      ]
    },
    {
      "cell_type": "code",
      "metadata": {
        "id": "g-HNBKB-DfkI",
        "colab_type": "code",
        "outputId": "11e267f5-bfee-4996-b741-28e8ac2c34e7",
        "colab": {
          "base_uri": "https://localhost:8080/",
          "height": 124
        }
      },
      "source": [
        "from google.colab import drive\n",
        "drive.mount('/content/drive')"
      ],
      "execution_count": 0,
      "outputs": [
        {
          "output_type": "stream",
          "text": [
            "Go to this URL in a browser: https://accounts.google.com/o/oauth2/auth?client_id=947318989803-6bn6qk8qdgf4n4g3pfee6491hc0brc4i.apps.googleusercontent.com&redirect_uri=urn%3aietf%3awg%3aoauth%3a2.0%3aoob&response_type=code&scope=email%20https%3a%2f%2fwww.googleapis.com%2fauth%2fdocs.test%20https%3a%2f%2fwww.googleapis.com%2fauth%2fdrive%20https%3a%2f%2fwww.googleapis.com%2fauth%2fdrive.photos.readonly%20https%3a%2f%2fwww.googleapis.com%2fauth%2fpeopleapi.readonly\n",
            "\n",
            "Enter your authorization code:\n",
            "··········\n",
            "Mounted at /content/drive\n"
          ],
          "name": "stdout"
        }
      ]
    },
    {
      "cell_type": "code",
      "metadata": {
        "id": "K-Fa40D9DpA5",
        "colab_type": "code",
        "outputId": "fc9e883a-4a8b-434b-af4a-a58fa0545188",
        "colab": {
          "base_uri": "https://localhost:8080/",
          "height": 34
        }
      },
      "source": [
        "cd /content/drive/My Drive/Mr.Dat/"
      ],
      "execution_count": 0,
      "outputs": [
        {
          "output_type": "stream",
          "text": [
            "/content/drive/My Drive/Mr.Dat\n"
          ],
          "name": "stdout"
        }
      ]
    },
    {
      "cell_type": "code",
      "metadata": {
        "id": "wQm_JnPCEg_v",
        "colab_type": "code",
        "colab": {}
      },
      "source": [
        "test_df = pd.read_csv('data/test_df.csv')"
      ],
      "execution_count": 0,
      "outputs": []
    },
    {
      "cell_type": "code",
      "metadata": {
        "id": "zikdx07PBe7w",
        "colab_type": "code",
        "colab": {}
      },
      "source": [
        "test_indices = test_df.index.values"
      ],
      "execution_count": 0,
      "outputs": []
    },
    {
      "cell_type": "code",
      "metadata": {
        "id": "Cuine7xvDsa6",
        "colab_type": "code",
        "colab": {}
      },
      "source": [
        "cat_cols = ['assetCode']\n",
        "num_cols = [c for c in test_df.columns if c not in ['assetCode', 'time', 'returnsOpenNextMktres10',\n",
        "                                                         'date', 'binaray_return_next10days']] "
      ],
      "execution_count": 0,
      "outputs": []
    },
    {
      "cell_type": "code",
      "metadata": {
        "id": "oFHub7XXDzn6",
        "colab_type": "code",
        "colab": {}
      },
      "source": [
        "def encode(encoder, x):\n",
        "    len_encoder = len(encoder)\n",
        "    try:\n",
        "        id = encoder[x]\n",
        "    except KeyError:\n",
        "        id = len_encoder\n",
        "    return id"
      ],
      "execution_count": 0,
      "outputs": []
    },
    {
      "cell_type": "code",
      "metadata": {
        "id": "BdovN9xED1uN",
        "colab_type": "code",
        "outputId": "cdec60b0-1152-45ef-c325-1949894b5e51",
        "colab": {
          "base_uri": "https://localhost:8080/",
          "height": 34
        }
      },
      "source": [
        "encoders = [{} for cat in cat_cols]\n",
        "\n",
        "for i, cat in enumerate(cat_cols):\n",
        "    print('encoding %s ...' % cat, end=' ')\n",
        "    encoders[i] = {l: id for id, l in enumerate(test_df.loc[test_indices, cat].astype(str).unique())}\n",
        "    test_df[cat] = test_df[cat].astype(str).apply(lambda x: encode(encoders[i], x))\n",
        "    print('Done')"
      ],
      "execution_count": 0,
      "outputs": [
        {
          "output_type": "stream",
          "text": [
            "encoding assetCode ... Done\n"
          ],
          "name": "stdout"
        }
      ]
    },
    {
      "cell_type": "code",
      "metadata": {
        "id": "K1Ok1CS8D2wt",
        "colab_type": "code",
        "colab": {}
      },
      "source": [
        "embed_sizes = [len(encoder) + 1 for encoder in encoders] #+1 for possible unknown assets"
      ],
      "execution_count": 0,
      "outputs": []
    },
    {
      "cell_type": "code",
      "metadata": {
        "id": "fRtICtmDD4O9",
        "colab_type": "code",
        "outputId": "29f23b44-6768-4cf2-93f4-f7d35f287150",
        "colab": {
          "base_uri": "https://localhost:8080/",
          "height": 34
        }
      },
      "source": [
        "from sklearn.preprocessing import StandardScaler\n",
        " \n",
        "test_df[num_cols] = test_df[num_cols].fillna(0)\n",
        "print('scaling numerical columns')\n",
        "\n",
        "scaler = StandardScaler()\n",
        "\n",
        "scaler = StandardScaler()\n",
        "test_df[num_cols] = scaler.fit_transform(test_df[num_cols])"
      ],
      "execution_count": 0,
      "outputs": [
        {
          "output_type": "stream",
          "text": [
            "scaling numerical columns\n"
          ],
          "name": "stdout"
        }
      ]
    },
    {
      "cell_type": "code",
      "metadata": {
        "id": "Ov21gBSFD5Cp",
        "colab_type": "code",
        "outputId": "1fa56fff-04d9-4a16-da88-20de7c4d0a50",
        "colab": {
          "base_uri": "https://localhost:8080/",
          "height": 141
        }
      },
      "source": [
        "categorical_inputs = []\n",
        "for cat in cat_cols:\n",
        "    categorical_inputs.append(Input(shape=[1], name=cat))\n",
        "\n",
        "categorical_embeddings = []\n",
        "for i, cat in enumerate(cat_cols):\n",
        "    categorical_embeddings.append(Embedding(embed_sizes[i], 10)(categorical_inputs[i]))"
      ],
      "execution_count": 0,
      "outputs": [
        {
          "output_type": "stream",
          "text": [
            "WARNING:tensorflow:From /usr/local/lib/python3.6/dist-packages/keras/backend/tensorflow_backend.py:541: The name tf.placeholder is deprecated. Please use tf.compat.v1.placeholder instead.\n",
            "\n",
            "WARNING:tensorflow:From /usr/local/lib/python3.6/dist-packages/keras/backend/tensorflow_backend.py:66: The name tf.get_default_graph is deprecated. Please use tf.compat.v1.get_default_graph instead.\n",
            "\n",
            "WARNING:tensorflow:From /usr/local/lib/python3.6/dist-packages/keras/backend/tensorflow_backend.py:4432: The name tf.random_uniform is deprecated. Please use tf.random.uniform instead.\n",
            "\n"
          ],
          "name": "stdout"
        }
      ]
    },
    {
      "cell_type": "code",
      "metadata": {
        "id": "xIUySj-mD6Iv",
        "colab_type": "code",
        "colab": {}
      },
      "source": [
        "def get_input_NN(market_train, indices):\n",
        "    X_num = market_train.loc[indices, num_cols].values\n",
        "    X = {'num':X_num}\n",
        "    for cat in cat_cols:\n",
        "        X[cat] = market_train.loc[indices, cat_cols].values\n",
        "    y = (market_train.loc[indices,'returnsOpenNextMktres10'] >= 0).values\n",
        "    r = market_train.loc[indices,'returnsOpenNextMktres10'].values\n",
        "    d = market_train.loc[indices, 'time'].dt.date\n",
        "    return X,y,r,d"
      ],
      "execution_count": 0,
      "outputs": []
    },
    {
      "cell_type": "code",
      "metadata": {
        "id": "YHCeKJLZD7PG",
        "colab_type": "code",
        "colab": {}
      },
      "source": [
        "test_df['time'] = pd.to_datetime(test_df['time'], errors='coerce')"
      ],
      "execution_count": 0,
      "outputs": []
    },
    {
      "cell_type": "code",
      "metadata": {
        "id": "iLuREMx0D8zB",
        "colab_type": "code",
        "colab": {}
      },
      "source": [
        "X_test,y_test,r_test,d_test = get_input_NN(test_df, test_indices)"
      ],
      "execution_count": 0,
      "outputs": []
    },
    {
      "cell_type": "code",
      "metadata": {
        "id": "Pe1uv3JuD96V",
        "colab_type": "code",
        "colab": {}
      },
      "source": [
        "from keras.models import load_model\n",
        "from sklearn.metrics import accuracy_score"
      ],
      "execution_count": 0,
      "outputs": []
    },
    {
      "cell_type": "markdown",
      "metadata": {
        "id": "vSBZ0oD8B2_i",
        "colab_type": "text"
      },
      "source": [
        "#  NN  result"
      ]
    },
    {
      "cell_type": "code",
      "metadata": {
        "id": "Ue79XW59D_XV",
        "colab_type": "code",
        "outputId": "936963ed-3776-4f58-c5fc-51aee8cae326",
        "colab": {
          "base_uri": "https://localhost:8080/",
          "height": 523
        }
      },
      "source": [
        "nn_model = load_model(\"models/nn_model.hdf5\")"
      ],
      "execution_count": 0,
      "outputs": [
        {
          "output_type": "stream",
          "text": [
            "WARNING:tensorflow:From /usr/local/lib/python3.6/dist-packages/keras/backend/tensorflow_backend.py:148: The name tf.placeholder_with_default is deprecated. Please use tf.compat.v1.placeholder_with_default instead.\n",
            "\n",
            "WARNING:tensorflow:From /usr/local/lib/python3.6/dist-packages/keras/backend/tensorflow_backend.py:3733: calling dropout (from tensorflow.python.ops.nn_ops) with keep_prob is deprecated and will be removed in a future version.\n",
            "Instructions for updating:\n",
            "Please use `rate` instead of `keep_prob`. Rate should be set to `rate = 1 - keep_prob`.\n",
            "WARNING:tensorflow:From /usr/local/lib/python3.6/dist-packages/keras/backend/tensorflow_backend.py:190: The name tf.get_default_session is deprecated. Please use tf.compat.v1.get_default_session instead.\n",
            "\n",
            "WARNING:tensorflow:From /usr/local/lib/python3.6/dist-packages/keras/backend/tensorflow_backend.py:197: The name tf.ConfigProto is deprecated. Please use tf.compat.v1.ConfigProto instead.\n",
            "\n",
            "WARNING:tensorflow:From /usr/local/lib/python3.6/dist-packages/keras/backend/tensorflow_backend.py:203: The name tf.Session is deprecated. Please use tf.compat.v1.Session instead.\n",
            "\n",
            "WARNING:tensorflow:From /usr/local/lib/python3.6/dist-packages/keras/backend/tensorflow_backend.py:207: The name tf.global_variables is deprecated. Please use tf.compat.v1.global_variables instead.\n",
            "\n",
            "WARNING:tensorflow:From /usr/local/lib/python3.6/dist-packages/keras/backend/tensorflow_backend.py:216: The name tf.is_variable_initialized is deprecated. Please use tf.compat.v1.is_variable_initialized instead.\n",
            "\n",
            "WARNING:tensorflow:From /usr/local/lib/python3.6/dist-packages/keras/backend/tensorflow_backend.py:223: The name tf.variables_initializer is deprecated. Please use tf.compat.v1.variables_initializer instead.\n",
            "\n",
            "WARNING:tensorflow:From /usr/local/lib/python3.6/dist-packages/keras/optimizers.py:793: The name tf.train.Optimizer is deprecated. Please use tf.compat.v1.train.Optimizer instead.\n",
            "\n",
            "WARNING:tensorflow:From /usr/local/lib/python3.6/dist-packages/keras/backend/tensorflow_backend.py:3657: The name tf.log is deprecated. Please use tf.math.log instead.\n",
            "\n",
            "WARNING:tensorflow:From /usr/local/lib/python3.6/dist-packages/tensorflow_core/python/ops/nn_impl.py:183: where (from tensorflow.python.ops.array_ops) is deprecated and will be removed in a future version.\n",
            "Instructions for updating:\n",
            "Use tf.where in 2.0, which has the same broadcast rule as np.where\n",
            "WARNING:tensorflow:From /usr/local/lib/python3.6/dist-packages/keras/backend/tensorflow_backend.py:1033: The name tf.assign_add is deprecated. Please use tf.compat.v1.assign_add instead.\n",
            "\n",
            "WARNING:tensorflow:From /usr/local/lib/python3.6/dist-packages/keras/backend/tensorflow_backend.py:1020: The name tf.assign is deprecated. Please use tf.compat.v1.assign instead.\n",
            "\n"
          ],
          "name": "stdout"
        }
      ]
    },
    {
      "cell_type": "code",
      "metadata": {
        "id": "7IUodUCSEA13",
        "colab_type": "code",
        "outputId": "65121c2e-cd60-4eda-bb1f-9a4e80fae939",
        "colab": {
          "base_uri": "https://localhost:8080/",
          "height": 298
        }
      },
      "source": [
        "# distribution of confidence that will be used as submission\n",
        "confidence_test_nn= nn_model.predict(X_test)[:,0]*2 -1\n",
        "print(accuracy_score(confidence_test_nn>0,y_test))\n",
        "plt.hist(confidence_test_nn, bins='auto')\n",
        "plt.title(\"test predicted confidence\")\n",
        "plt.show()"
      ],
      "execution_count": 0,
      "outputs": [
        {
          "output_type": "stream",
          "text": [
            "0.5300952329111481\n"
          ],
          "name": "stdout"
        },
        {
          "output_type": "display_data",
          "data": {
            "image/png": "[encoded data removed]",
            "text/plain": [
              "<Figure size 432x288 with 1 Axes>"
            ]
          },
          "metadata": {
            "tags": []
          }
        }
      ]
    },
    {
      "cell_type": "code",
      "metadata": {
        "id": "WsyzwOykEB-M",
        "colab_type": "code",
        "outputId": "fba40a38-208e-4211-ae75-5154c9cbb18d",
        "colab": {
          "base_uri": "https://localhost:8080/",
          "height": 34
        }
      },
      "source": [
        "# calculation of actual metric that is used to calculate final score\n",
        "r_test = r_test.clip(-1,1) # get rid of outliers. Where do they come from??\n",
        "x_t_i = confidence_test_nn * r_test\n",
        "data = {'day' : d_test, 'x_t_i' : x_t_i}\n",
        "df = pd.DataFrame(data)\n",
        "x_t = df.groupby('day').sum().values.flatten()\n",
        "mean = np.mean(x_t)\n",
        "std = np.std(x_t)\n",
        "score_test = mean / std\n",
        "print(score_test)"
      ],
      "execution_count": 0,
      "outputs": [
        {
          "output_type": "stream",
          "text": [
            "0.33616488306038644\n"
          ],
          "name": "stdout"
        }
      ]
    },
    {
      "cell_type": "markdown",
      "metadata": {
        "id": "pjJHuz0TEjvP",
        "colab_type": "text"
      },
      "source": [
        "# get input for lgb"
      ]
    },
    {
      "cell_type": "code",
      "metadata": {
        "id": "qKs6cGrLoEib",
        "colab_type": "code",
        "colab": {}
      },
      "source": [
        "test_df = pd.read_csv('data/test_df.csv')"
      ],
      "execution_count": 0,
      "outputs": []
    },
    {
      "cell_type": "code",
      "metadata": {
        "id": "Fho05P35E8tq",
        "colab_type": "code",
        "colab": {}
      },
      "source": [
        "def get_input_lgb(df):\n",
        "    X = df[num_cols].values\n",
        "    y = df.binaray_return_next10days.values\n",
        "    r = df.returnsOpenNextMktres10.values\n",
        "    d = df.time.dt.date\n",
        "    return X,y,r,d"
      ],
      "execution_count": 0,
      "outputs": []
    },
    {
      "cell_type": "code",
      "metadata": {
        "id": "iwASor9xFVzA",
        "colab_type": "code",
        "colab": {}
      },
      "source": [
        "test_df['time'] = pd.to_datetime(test_df['time'], errors='coerce')\n",
        "X_test,y_test,r_test,d_test = get_input_lgb(test_df)"
      ],
      "execution_count": 0,
      "outputs": []
    },
    {
      "cell_type": "code",
      "metadata": {
        "id": "PwB9BMYwFUnh",
        "colab_type": "code",
        "colab": {}
      },
      "source": [
        "import lightgbm as lgb"
      ],
      "execution_count": 0,
      "outputs": []
    },
    {
      "cell_type": "code",
      "metadata": {
        "id": "qAFKJK_sE_ij",
        "colab_type": "code",
        "colab": {}
      },
      "source": [
        "lgb1 = lgb.Booster(model_file='models/lgb1.txt')\n",
        "lgb2 = lgb.Booster(model_file='models/lgb2.txt')"
      ],
      "execution_count": 0,
      "outputs": []
    },
    {
      "cell_type": "markdown",
      "metadata": {
        "id": "Bh6hl6YPB6B3",
        "colab_type": "text"
      },
      "source": [
        "# lgb1  reslut"
      ]
    },
    {
      "cell_type": "code",
      "metadata": {
        "id": "U3yHXsLWB8OT",
        "colab_type": "code",
        "outputId": "df6c33c3-ffc5-4863-f15a-0c223b253053",
        "colab": {
          "base_uri": "https://localhost:8080/",
          "height": 298
        }
      },
      "source": [
        "# distribution of confidence that will be used as submission\n",
        "confidence_test_lgb1= lgb1.predict(X_test)*2 -1\n",
        "print(accuracy_score(confidence_test_lgb1>0,y_test))\n",
        "plt.hist(confidence_test_lgb1, bins='auto')\n",
        "plt.title(\"test predicted confidence lg1\")\n",
        "plt.show()"
      ],
      "execution_count": 0,
      "outputs": [
        {
          "output_type": "stream",
          "text": [
            "0.5845553941811182\n"
          ],
          "name": "stdout"
        },
        {
          "output_type": "display_data",
          "data": {
            "image/png": "[encoded data removed]",
            "text/plain": [
              "<Figure size 432x288 with 1 Axes>"
            ]
          },
          "metadata": {
            "tags": []
          }
        }
      ]
    },
    {
      "cell_type": "code",
      "metadata": {
        "id": "MlJTp9DRFjJQ",
        "colab_type": "code",
        "outputId": "e08cfe10-89d4-4e08-b03e-cabc14c7401a",
        "colab": {
          "base_uri": "https://localhost:8080/",
          "height": 34
        }
      },
      "source": [
        "# calculation of actual metric that is used to calculate final score\n",
        "r_test = r_test.clip(-1,1) # get rid of outliers. Where do they come from??\n",
        "x_t_i = confidence_test_lgb1 * r_test\n",
        "data = {'day' : d_test, 'x_t_i' : x_t_i}\n",
        "df = pd.DataFrame(data)\n",
        "x_t = df.groupby('day').sum().values.flatten()\n",
        "mean = np.mean(x_t)\n",
        "std = np.std(x_t)\n",
        "score_test = mean / std\n",
        "print(score_test)"
      ],
      "execution_count": 0,
      "outputs": [
        {
          "output_type": "stream",
          "text": [
            "0.8411027332322877\n"
          ],
          "name": "stdout"
        }
      ]
    },
    {
      "cell_type": "markdown",
      "metadata": {
        "id": "Z0HFiZilB82l",
        "colab_type": "text"
      },
      "source": [
        "# lgb2 result"
      ]
    },
    {
      "cell_type": "code",
      "metadata": {
        "id": "roiHHc72B-HA",
        "colab_type": "code",
        "outputId": "b5738bc1-a59e-4362-ed59-fed41eaab410",
        "colab": {
          "base_uri": "https://localhost:8080/",
          "height": 298
        }
      },
      "source": [
        "# distribution of confidence that will be used as submission\n",
        "confidence_test_lgb2= lgb2.predict(X_test)*2 -1\n",
        "print(accuracy_score(confidence_test_lgb2>0,y_test))\n",
        "plt.hist(confidence_test_lgb2, bins='auto')\n",
        "plt.title(\"test predicted confidence lg2\")\n",
        "plt.show()"
      ],
      "execution_count": 0,
      "outputs": [
        {
          "output_type": "stream",
          "text": [
            "0.5919755942469326\n"
          ],
          "name": "stdout"
        },
        {
          "output_type": "display_data",
          "data": {
            "image/png": "[encoded data removed]",
            "text/plain": [
              "<Figure size 432x288 with 1 Axes>"
            ]
          },
          "metadata": {
            "tags": []
          }
        }
      ]
    },
    {
      "cell_type": "code",
      "metadata": {
        "id": "iKh-G4VCFlJa",
        "colab_type": "code",
        "outputId": "5f379224-f93d-4af1-e391-c4133aa5550b",
        "colab": {
          "base_uri": "https://localhost:8080/",
          "height": 34
        }
      },
      "source": [
        "# calculation of actual metric that is used to calculate final score\n",
        "r_test = r_test.clip(-1,1) # get rid of outliers. Where do they come from??\n",
        "x_t_i = confidence_test_lgb2 * r_test\n",
        "data = {'day' : d_test, 'x_t_i' : x_t_i}\n",
        "df = pd.DataFrame(data)\n",
        "x_t = df.groupby('day').sum().values.flatten()\n",
        "mean = np.mean(x_t)\n",
        "std = np.std(x_t)\n",
        "score_test = mean / std\n",
        "print(score_test)"
      ],
      "execution_count": 0,
      "outputs": [
        {
          "output_type": "stream",
          "text": [
            "0.9092772817952351\n"
          ],
          "name": "stdout"
        }
      ]
    },
    {
      "cell_type": "markdown",
      "metadata": {
        "id": "U8NJD318FmSI",
        "colab_type": "text"
      },
      "source": [
        "# Ensemble lg1 lg2 nn"
      ]
    },
    {
      "cell_type": "code",
      "metadata": {
        "id": "0L5fsnqqFpim",
        "colab_type": "code",
        "outputId": "a323d2eb-1453-412d-9280-4acd2b9b32ed",
        "colab": {
          "base_uri": "https://localhost:8080/",
          "height": 298
        }
      },
      "source": [
        "ens_conf = (confidence_test_lgb2 + confidence_test_lgb1)/2\n",
        "print(accuracy_score(ens_conf>0,y_test))\n",
        "plt.hist(ens_conf, bins='auto')\n",
        "plt.title(\"test predicted ens_conf lg2 + lgb1 + nn\")\n",
        "plt.show()"
      ],
      "execution_count": 0,
      "outputs": [
        {
          "output_type": "stream",
          "text": [
            "0.5923590990852791\n"
          ],
          "name": "stdout"
        },
        {
          "output_type": "display_data",
          "data": {
            "image/png": "[encoded data removed]",
            "text/plain": [
              "<Figure size 432x288 with 1 Axes>"
            ]
          },
          "metadata": {
            "tags": []
          }
        }
      ]
    },
    {
      "cell_type": "code",
      "metadata": {
        "id": "YPjHu0zqFrZ8",
        "colab_type": "code",
        "outputId": "9ce4ed97-4fe1-4515-e0df-0e6769e4c898",
        "colab": {
          "base_uri": "https://localhost:8080/",
          "height": 34
        }
      },
      "source": [
        "# calculation of actual metric that is used to calculate final score\n",
        "r_test = r_test.clip(-1,1) # get rid of outliers. Where do they come from??\n",
        "x_t_i = ens_conf * r_test\n",
        "data = {'day' : d_test, 'x_t_i' : x_t_i}\n",
        "df = pd.DataFrame(data)\n",
        "x_t = df.groupby('day').sum().values.flatten()\n",
        "mean = np.mean(x_t)\n",
        "std = np.std(x_t)\n",
        "score_test = mean / std\n",
        "print(score_test)"
      ],
      "execution_count": 0,
      "outputs": [
        {
          "output_type": "stream",
          "text": [
            "0.8823358784266261\n"
          ],
          "name": "stdout"
        }
      ]
    },
    {
      "cell_type": "markdown",
      "metadata": {
        "id": "6sFN1x4CoUyH",
        "colab_type": "text"
      },
      "source": [
        "# Ensemble NN + lgb1 + lgb2"
      ]
    },
    {
      "cell_type": "code",
      "metadata": {
        "id": "FRFI2ZsdnmSt",
        "colab_type": "code",
        "outputId": "97599b52-9569-4aea-8052-04188bd6826d",
        "colab": {
          "base_uri": "https://localhost:8080/",
          "height": 298
        }
      },
      "source": [
        "ens_conf_lgb_nn = (confidence_test_lgb2 + confidence_test_lgb1 + confidence_test_nn)/3\n",
        "print(accuracy_score(ens_conf_lgb_nn>0,y_test))\n",
        "plt.hist(ens_conf_lgb_nn, bins='auto')\n",
        "plt.title(\"test predicted ens_conf lg2 + lgb1 + nn\")\n",
        "plt.show()"
      ],
      "execution_count": 0,
      "outputs": [
        {
          "output_type": "stream",
          "text": [
            "0.5827690039018525\n"
          ],
          "name": "stdout"
        },
        {
          "output_type": "display_data",
          "data": {
            "image/png": "[encoded data removed]",
            "text/plain": [
              "<Figure size 432x288 with 1 Axes>"
            ]
          },
          "metadata": {
            "tags": []
          }
        }
      ]
    },
    {
      "cell_type": "code",
      "metadata": {
        "id": "_JVmGI92nmW1",
        "colab_type": "code",
        "outputId": "fb0c6d07-f3a8-44be-ea74-b18e72519fe1",
        "colab": {
          "base_uri": "https://localhost:8080/",
          "height": 34
        }
      },
      "source": [
        "# calculation of actual metric that is used to calculate final score\n",
        "r_test = r_test.clip(-1,1) # get rid of outliers. Where do they come from??\n",
        "x_t_i = ens_conf_lgb_nn * r_test\n",
        "data = {'day' : d_test, 'x_t_i' : x_t_i}\n",
        "df = pd.DataFrame(data)\n",
        "x_t = df.groupby('day').sum().values.flatten()\n",
        "mean = np.mean(x_t)\n",
        "std = np.std(x_t)\n",
        "score_test = mean / std\n",
        "print(score_test)"
      ],
      "execution_count": 0,
      "outputs": [
        {
          "output_type": "stream",
          "text": [
            "0.7634483521159579\n"
          ],
          "name": "stdout"
        }
      ]
    }
  ]
}