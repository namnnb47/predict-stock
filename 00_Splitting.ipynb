{
  "nbformat": 4,
  "nbformat_minor": 0,
  "metadata": {
    "colab": {
      "name": "00. Splitting.ipynb",
      "provenance": [],
      "collapsed_sections": []
    },
    "kernelspec": {
      "name": "python3",
      "display_name": "Python 3"
    }
  },
  "cells": [
    {
      "cell_type": "code",
      "metadata": {
        "id": "pfKv2Bx3Zxn1",
        "colab_type": "code",
        "colab": {}
      },
      "source": [
        "%reload_ext autoreload\n",
        "%autoreload 2\n",
        "%matplotlib inline"
      ],
      "execution_count": 0,
      "outputs": []
    },
    {
      "cell_type": "code",
      "metadata": {
        "id": "aK8clLB2Z4Mi",
        "colab_type": "code",
        "outputId": "7e77e00d-ecff-4916-c78f-54779ed4f6b6",
        "colab": {
          "base_uri": "https://localhost:8080/",
          "height": 124
        }
      },
      "source": [
        "from google.colab import drive\n",
        "drive.mount('/content/drive')"
      ],
      "execution_count": 0,
      "outputs": [
        {
          "output_type": "stream",
          "text": [
            "Go to this URL in a browser: https://accounts.google.com/o/oauth2/auth?client_id=947318989803-6bn6qk8qdgf4n4g3pfee6491hc0brc4i.apps.googleusercontent.com&redirect_uri=urn%3aietf%3awg%3aoauth%3a2.0%3aoob&response_type=code&scope=email%20https%3a%2f%2fwww.googleapis.com%2fauth%2fdocs.test%20https%3a%2f%2fwww.googleapis.com%2fauth%2fdrive%20https%3a%2f%2fwww.googleapis.com%2fauth%2fdrive.photos.readonly%20https%3a%2f%2fwww.googleapis.com%2fauth%2fpeopleapi.readonly\n",
            "\n",
            "Enter your authorization code:\n",
            "··········\n",
            "Mounted at /content/drive\n"
          ],
          "name": "stdout"
        }
      ]
    },
    {
      "cell_type": "code",
      "metadata": {
        "id": "4ruXKpVA1HNp",
        "colab_type": "code",
        "outputId": "0bfeb60b-41d7-45b0-be5e-b32ea4e0e995",
        "colab": {
          "base_uri": "https://localhost:8080/",
          "height": 34
        }
      },
      "source": [
        "cd /content/drive/My Drive/Mr.Dat/"
      ],
      "execution_count": 0,
      "outputs": [
        {
          "output_type": "stream",
          "text": [
            "/content/drive/My Drive/Mr.Dat\n"
          ],
          "name": "stdout"
        }
      ]
    },
    {
      "cell_type": "code",
      "metadata": {
        "id": "npexmm52aGaP",
        "colab_type": "code",
        "colab": {}
      },
      "source": [
        "import numpy as np\n",
        "import pandas as pd\n",
        "from sklearn.model_selection import train_test_split"
      ],
      "execution_count": 0,
      "outputs": []
    },
    {
      "cell_type": "code",
      "metadata": {
        "id": "fmFC9pyTZ7R1",
        "colab_type": "code",
        "colab": {}
      },
      "source": [
        "df = pd.read_csv('data/mk-news.csv')"
      ],
      "execution_count": 0,
      "outputs": []
    },
    {
      "cell_type": "code",
      "metadata": {
        "id": "o9wg-wZn1mk-",
        "colab_type": "code",
        "outputId": "2b340e7a-82ca-4b20-8663-b331f4ab6efa",
        "colab": {
          "base_uri": "https://localhost:8080/",
          "height": 34
        }
      },
      "source": [
        "df.shape"
      ],
      "execution_count": 0,
      "outputs": [
        {
          "output_type": "execute_result",
          "data": {
            "text/plain": [
              "(2020833, 55)"
            ]
          },
          "metadata": {
            "tags": []
          },
          "execution_count": 6
        }
      ]
    },
    {
      "cell_type": "code",
      "metadata": {
        "id": "Usfl8FxX2SPu",
        "colab_type": "code",
        "outputId": "9fef9f0b-178d-4a87-f312-b053a403fdc3",
        "colab": {
          "base_uri": "https://localhost:8080/",
          "height": 118
        }
      },
      "source": [
        "df.head(1)"
      ],
      "execution_count": 0,
      "outputs": [
        {
          "output_type": "execute_result",
          "data": {
            "text/html": [
              "<div>\n",
              "<style scoped>\n",
              "    .dataframe tbody tr th:only-of-type {\n",
              "        vertical-align: middle;\n",
              "    }\n",
              "\n",
              "    .dataframe tbody tr th {\n",
              "        vertical-align: top;\n",
              "    }\n",
              "\n",
              "    .dataframe thead th {\n",
              "        text-align: right;\n",
              "    }\n",
              "</style>\n",
              "<table border=\"1\" class=\"dataframe\">\n",
              "  <thead>\n",
              "    <tr style=\"text-align: right;\">\n",
              "      <th></th>\n",
              "      <th>returnsClosePrevRaw10</th>\n",
              "      <th>returnsClosePrevMktres10</th>\n",
              "      <th>close</th>\n",
              "      <th>assetCode</th>\n",
              "      <th>month</th>\n",
              "      <th>close_ma14</th>\n",
              "      <th>close_ma200</th>\n",
              "      <th>close_ma30</th>\n",
              "      <th>volume</th>\n",
              "      <th>close_ma50</th>\n",
              "      <th>returnsClosePrevMktres1</th>\n",
              "      <th>returnsClosePrevRaw1</th>\n",
              "      <th>returnsOpenPrevRaw1</th>\n",
              "      <th>vol_pct_10</th>\n",
              "      <th>day</th>\n",
              "      <th>quarter</th>\n",
              "      <th>time</th>\n",
              "      <th>mom1</th>\n",
              "      <th>mom2</th>\n",
              "      <th>mom3</th>\n",
              "      <th>mom4</th>\n",
              "      <th>mom5</th>\n",
              "      <th>mom10</th>\n",
              "      <th>volatility_50</th>\n",
              "      <th>volatility_31</th>\n",
              "      <th>volatility_15</th>\n",
              "      <th>returnsOpenNextMktres10</th>\n",
              "      <th>date</th>\n",
              "      <th>sourceId_mean</th>\n",
              "      <th>urgency_mean</th>\n",
              "      <th>takeSequence_mean</th>\n",
              "      <th>provider_mean</th>\n",
              "      <th>bodySize_mean</th>\n",
              "      <th>companyCount_mean</th>\n",
              "      <th>headlineTag_mean</th>\n",
              "      <th>marketCommentary_mean</th>\n",
              "      <th>sentenceCount_mean</th>\n",
              "      <th>wordCount_mean</th>\n",
              "      <th>firstMentionSentence_mean</th>\n",
              "      <th>relevance_mean</th>\n",
              "      <th>sentimentClass_mean</th>\n",
              "      <th>sentimentNegative_mean</th>\n",
              "      <th>sentimentNeutral_mean</th>\n",
              "      <th>sentimentPositive_mean</th>\n",
              "      <th>sentimentWordCount_mean</th>\n",
              "      <th>noveltyCount12H_mean</th>\n",
              "      <th>noveltyCount24H_mean</th>\n",
              "      <th>noveltyCount3D_mean</th>\n",
              "      <th>noveltyCount5D_mean</th>\n",
              "      <th>noveltyCount7D_mean</th>\n",
              "      <th>volumeCounts12H_mean</th>\n",
              "      <th>volumeCounts24H_mean</th>\n",
              "      <th>volumeCounts3D_mean</th>\n",
              "      <th>volumeCounts5D_mean</th>\n",
              "      <th>volumeCounts7D_mean</th>\n",
              "    </tr>\n",
              "  </thead>\n",
              "  <tbody>\n",
              "    <tr>\n",
              "      <th>0</th>\n",
              "      <td>-0.071913</td>\n",
              "      <td>-0.035249</td>\n",
              "      <td>34.2</td>\n",
              "      <td>A.N</td>\n",
              "      <td>11</td>\n",
              "      <td>35.282143</td>\n",
              "      <td>36.03095</td>\n",
              "      <td>36.513667</td>\n",
              "      <td>1838001.0</td>\n",
              "      <td>36.577</td>\n",
              "      <td>0.014433</td>\n",
              "      <td>0.008552</td>\n",
              "      <td>0.009786</td>\n",
              "      <td>0.042331</td>\n",
              "      <td>2</td>\n",
              "      <td>4</td>\n",
              "      <td>2007-11-14 22:00:00+00:00</td>\n",
              "      <td>0.008552</td>\n",
              "      <td>0.020591</td>\n",
              "      <td>0.024259</td>\n",
              "      <td>-0.022298</td>\n",
              "      <td>-0.041748</td>\n",
              "      <td>-0.071913</td>\n",
              "      <td>0.013705</td>\n",
              "      <td>0.015841</td>\n",
              "      <td>0.017991</td>\n",
              "      <td>0.123976</td>\n",
              "      <td>2007-11-14</td>\n",
              "      <td>2257998.0</td>\n",
              "      <td>3.0</td>\n",
              "      <td>1.0</td>\n",
              "      <td>0.15</td>\n",
              "      <td>2966.0</td>\n",
              "      <td>2.393939</td>\n",
              "      <td>2.0</td>\n",
              "      <td>0.0</td>\n",
              "      <td>0.0</td>\n",
              "      <td>0.0</td>\n",
              "      <td>0.0</td>\n",
              "      <td>0.0</td>\n",
              "      <td>0.0</td>\n",
              "      <td>0.187361</td>\n",
              "      <td>0.316484</td>\n",
              "      <td>0.366647</td>\n",
              "      <td>180.300003</td>\n",
              "      <td>0.0</td>\n",
              "      <td>0.0</td>\n",
              "      <td>0.166667</td>\n",
              "      <td>0.25</td>\n",
              "      <td>0.333333</td>\n",
              "      <td>1.0</td>\n",
              "      <td>2.0</td>\n",
              "      <td>4.0</td>\n",
              "      <td>6.666667</td>\n",
              "      <td>10.333333</td>\n",
              "    </tr>\n",
              "  </tbody>\n",
              "</table>\n",
              "</div>"
            ],
            "text/plain": [
              "   returnsClosePrevRaw10  ...  volumeCounts7D_mean\n",
              "0              -0.071913  ...            10.333333\n",
              "\n",
              "[1 rows x 55 columns]"
            ]
          },
          "metadata": {
            "tags": []
          },
          "execution_count": 7
        }
      ]
    },
    {
      "cell_type": "code",
      "metadata": {
        "id": "swIROgipnLoy",
        "colab_type": "code",
        "colab": {}
      },
      "source": [
        "#################"
      ],
      "execution_count": 0,
      "outputs": []
    },
    {
      "cell_type": "code",
      "metadata": {
        "id": "0YrpPzYx6gZw",
        "colab_type": "code",
        "colab": {}
      },
      "source": [
        "df['binaray_return_next10days'] = df.returnsOpenNextMktres10>0"
      ],
      "execution_count": 0,
      "outputs": []
    },
    {
      "cell_type": "code",
      "metadata": {
        "id": "DPA2xoIr6s0a",
        "colab_type": "code",
        "outputId": "b052f4cb-2d6f-488f-d66c-bc5a8ba6b186",
        "colab": {
          "base_uri": "https://localhost:8080/",
          "height": 118
        }
      },
      "source": [
        "df.head(1)"
      ],
      "execution_count": 0,
      "outputs": [
        {
          "output_type": "execute_result",
          "data": {
            "text/html": [
              "<div>\n",
              "<style scoped>\n",
              "    .dataframe tbody tr th:only-of-type {\n",
              "        vertical-align: middle;\n",
              "    }\n",
              "\n",
              "    .dataframe tbody tr th {\n",
              "        vertical-align: top;\n",
              "    }\n",
              "\n",
              "    .dataframe thead th {\n",
              "        text-align: right;\n",
              "    }\n",
              "</style>\n",
              "<table border=\"1\" class=\"dataframe\">\n",
              "  <thead>\n",
              "    <tr style=\"text-align: right;\">\n",
              "      <th></th>\n",
              "      <th>returnsClosePrevRaw10</th>\n",
              "      <th>returnsClosePrevMktres10</th>\n",
              "      <th>close</th>\n",
              "      <th>assetCode</th>\n",
              "      <th>month</th>\n",
              "      <th>close_ma14</th>\n",
              "      <th>close_ma200</th>\n",
              "      <th>close_ma30</th>\n",
              "      <th>volume</th>\n",
              "      <th>close_ma50</th>\n",
              "      <th>returnsClosePrevMktres1</th>\n",
              "      <th>returnsClosePrevRaw1</th>\n",
              "      <th>returnsOpenPrevRaw1</th>\n",
              "      <th>vol_pct_10</th>\n",
              "      <th>day</th>\n",
              "      <th>quarter</th>\n",
              "      <th>time</th>\n",
              "      <th>mom1</th>\n",
              "      <th>mom2</th>\n",
              "      <th>mom3</th>\n",
              "      <th>mom4</th>\n",
              "      <th>mom5</th>\n",
              "      <th>mom10</th>\n",
              "      <th>volatility_50</th>\n",
              "      <th>volatility_31</th>\n",
              "      <th>volatility_15</th>\n",
              "      <th>returnsOpenNextMktres10</th>\n",
              "      <th>date</th>\n",
              "      <th>sourceId_mean</th>\n",
              "      <th>urgency_mean</th>\n",
              "      <th>takeSequence_mean</th>\n",
              "      <th>provider_mean</th>\n",
              "      <th>bodySize_mean</th>\n",
              "      <th>companyCount_mean</th>\n",
              "      <th>headlineTag_mean</th>\n",
              "      <th>marketCommentary_mean</th>\n",
              "      <th>sentenceCount_mean</th>\n",
              "      <th>wordCount_mean</th>\n",
              "      <th>firstMentionSentence_mean</th>\n",
              "      <th>relevance_mean</th>\n",
              "      <th>sentimentClass_mean</th>\n",
              "      <th>sentimentNegative_mean</th>\n",
              "      <th>sentimentNeutral_mean</th>\n",
              "      <th>sentimentPositive_mean</th>\n",
              "      <th>sentimentWordCount_mean</th>\n",
              "      <th>noveltyCount12H_mean</th>\n",
              "      <th>noveltyCount24H_mean</th>\n",
              "      <th>noveltyCount3D_mean</th>\n",
              "      <th>noveltyCount5D_mean</th>\n",
              "      <th>noveltyCount7D_mean</th>\n",
              "      <th>volumeCounts12H_mean</th>\n",
              "      <th>volumeCounts24H_mean</th>\n",
              "      <th>volumeCounts3D_mean</th>\n",
              "      <th>volumeCounts5D_mean</th>\n",
              "      <th>volumeCounts7D_mean</th>\n",
              "      <th>binaray_return_next10days</th>\n",
              "    </tr>\n",
              "  </thead>\n",
              "  <tbody>\n",
              "    <tr>\n",
              "      <th>0</th>\n",
              "      <td>-0.071913</td>\n",
              "      <td>-0.035249</td>\n",
              "      <td>34.2</td>\n",
              "      <td>A.N</td>\n",
              "      <td>11</td>\n",
              "      <td>35.282143</td>\n",
              "      <td>36.03095</td>\n",
              "      <td>36.513667</td>\n",
              "      <td>1838001.0</td>\n",
              "      <td>36.577</td>\n",
              "      <td>0.014433</td>\n",
              "      <td>0.008552</td>\n",
              "      <td>0.009786</td>\n",
              "      <td>0.042331</td>\n",
              "      <td>2</td>\n",
              "      <td>4</td>\n",
              "      <td>2007-11-14 22:00:00+00:00</td>\n",
              "      <td>0.008552</td>\n",
              "      <td>0.020591</td>\n",
              "      <td>0.024259</td>\n",
              "      <td>-0.022298</td>\n",
              "      <td>-0.041748</td>\n",
              "      <td>-0.071913</td>\n",
              "      <td>0.013705</td>\n",
              "      <td>0.015841</td>\n",
              "      <td>0.017991</td>\n",
              "      <td>0.123976</td>\n",
              "      <td>2007-11-14</td>\n",
              "      <td>2257998.0</td>\n",
              "      <td>3.0</td>\n",
              "      <td>1.0</td>\n",
              "      <td>0.15</td>\n",
              "      <td>2966.0</td>\n",
              "      <td>2.393939</td>\n",
              "      <td>2.0</td>\n",
              "      <td>0.0</td>\n",
              "      <td>0.0</td>\n",
              "      <td>0.0</td>\n",
              "      <td>0.0</td>\n",
              "      <td>0.0</td>\n",
              "      <td>0.0</td>\n",
              "      <td>0.187361</td>\n",
              "      <td>0.316484</td>\n",
              "      <td>0.366647</td>\n",
              "      <td>180.300003</td>\n",
              "      <td>0.0</td>\n",
              "      <td>0.0</td>\n",
              "      <td>0.166667</td>\n",
              "      <td>0.25</td>\n",
              "      <td>0.333333</td>\n",
              "      <td>1.0</td>\n",
              "      <td>2.0</td>\n",
              "      <td>4.0</td>\n",
              "      <td>6.666667</td>\n",
              "      <td>10.333333</td>\n",
              "      <td>True</td>\n",
              "    </tr>\n",
              "  </tbody>\n",
              "</table>\n",
              "</div>"
            ],
            "text/plain": [
              "   returnsClosePrevRaw10  ...  binaray_return_next10days\n",
              "0              -0.071913  ...                       True\n",
              "\n",
              "[1 rows x 56 columns]"
            ]
          },
          "metadata": {
            "tags": []
          },
          "execution_count": 9
        }
      ]
    },
    {
      "cell_type": "code",
      "metadata": {
        "id": "TNfPg2qX6vwN",
        "colab_type": "code",
        "outputId": "b1217ef9-f2f3-4b01-d4b2-b173499dcbdf",
        "colab": {
          "base_uri": "https://localhost:8080/",
          "height": 1000
        }
      },
      "source": [
        "df.isna().sum()"
      ],
      "execution_count": 0,
      "outputs": [
        {
          "output_type": "execute_result",
          "data": {
            "text/plain": [
              "returnsClosePrevRaw10        0\n",
              "returnsClosePrevMktres10     0\n",
              "close                        0\n",
              "assetCode                    0\n",
              "month                        0\n",
              "close_ma14                   0\n",
              "close_ma200                  0\n",
              "close_ma30                   0\n",
              "volume                       0\n",
              "close_ma50                   0\n",
              "returnsClosePrevMktres1      0\n",
              "returnsClosePrevRaw1         0\n",
              "returnsOpenPrevRaw1          0\n",
              "vol_pct_10                   0\n",
              "day                          0\n",
              "quarter                      0\n",
              "time                         0\n",
              "mom1                         0\n",
              "mom2                         0\n",
              "mom3                         0\n",
              "mom4                         0\n",
              "mom5                         0\n",
              "mom10                        0\n",
              "volatility_50                0\n",
              "volatility_31                0\n",
              "volatility_15                0\n",
              "returnsOpenNextMktres10      0\n",
              "date                         0\n",
              "sourceId_mean                0\n",
              "urgency_mean                 0\n",
              "takeSequence_mean            0\n",
              "provider_mean                0\n",
              "bodySize_mean                0\n",
              "companyCount_mean            0\n",
              "headlineTag_mean             0\n",
              "marketCommentary_mean        0\n",
              "sentenceCount_mean           0\n",
              "wordCount_mean               0\n",
              "firstMentionSentence_mean    0\n",
              "relevance_mean               0\n",
              "sentimentClass_mean          0\n",
              "sentimentNegative_mean       0\n",
              "sentimentNeutral_mean        0\n",
              "sentimentPositive_mean       0\n",
              "sentimentWordCount_mean      0\n",
              "noveltyCount12H_mean         0\n",
              "noveltyCount24H_mean         0\n",
              "noveltyCount3D_mean          0\n",
              "noveltyCount5D_mean          0\n",
              "noveltyCount7D_mean          0\n",
              "volumeCounts12H_mean         0\n",
              "volumeCounts24H_mean         0\n",
              "volumeCounts3D_mean          0\n",
              "volumeCounts5D_mean          0\n",
              "volumeCounts7D_mean          0\n",
              "binaray_return_next10days    0\n",
              "dtype: int64"
            ]
          },
          "metadata": {
            "tags": []
          },
          "execution_count": 10
        }
      ]
    },
    {
      "cell_type": "code",
      "metadata": {
        "id": "1Wzl0hzi51TL",
        "colab_type": "code",
        "colab": {}
      },
      "source": [
        "train_df, test_df = train_test_split(df, test_size=0.2, stratify=df['binaray_return_next10days']) "
      ],
      "execution_count": 0,
      "outputs": []
    },
    {
      "cell_type": "code",
      "metadata": {
        "id": "M7okUAOX67uD",
        "colab_type": "code",
        "colab": {}
      },
      "source": [
        "train_df.to_csv('data/train_df.csv', index=False)\n",
        "test_df.to_csv('data/test_df.csv', index=False)"
      ],
      "execution_count": 0,
      "outputs": []
    },
    {
      "cell_type": "code",
      "metadata": {
        "id": "dR27EoiO7JWR",
        "colab_type": "code",
        "outputId": "9bad433a-3559-42b6-9183-a513614b2bc3",
        "colab": {
          "base_uri": "https://localhost:8080/",
          "height": 34
        }
      },
      "source": [
        "ls data"
      ],
      "execution_count": 0,
      "outputs": [
        {
          "output_type": "stream",
          "text": [
            "mk-news.csv  test_df.csv  train_df.csv\n"
          ],
          "name": "stdout"
        }
      ]
    }
  ]
}