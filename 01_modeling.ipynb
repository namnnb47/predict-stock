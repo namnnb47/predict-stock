{
  "nbformat": 4,
  "nbformat_minor": 0,
  "metadata": {
    "colab": {
      "name": "01. modeling.ipynb",
      "provenance": [],
      "collapsed_sections": []
    },
    "kernelspec": {
      "name": "python3",
      "display_name": "Python 3"
    },
    "accelerator": "GPU"
  },
  "cells": [
    {
      "cell_type": "code",
      "metadata": {
        "id": "Aef6d6sx7-fX",
        "colab_type": "code",
        "colab": {}
      },
      "source": [
        "%reload_ext autoreload\n",
        "%autoreload 2\n",
        "%matplotlib inline"
      ],
      "execution_count": 0,
      "outputs": []
    },
    {
      "cell_type": "markdown",
      "metadata": {
        "id": "s9Q-IdOM4aps",
        "colab_type": "text"
      },
      "source": [
        "# mount ggdrive"
      ]
    },
    {
      "cell_type": "code",
      "metadata": {
        "id": "EkVlUBGM8Dzj",
        "colab_type": "code",
        "outputId": "3bf7f905-f20e-48f8-c611-08e906427923",
        "colab": {
          "base_uri": "https://localhost:8080/",
          "height": 34
        }
      },
      "source": [
        "from google.colab import drive\n",
        "drive.mount('/content/drive')"
      ],
      "execution_count": 0,
      "outputs": [
        {
          "output_type": "stream",
          "text": [
            "Drive already mounted at /content/drive; to attempt to forcibly remount, call drive.mount(\"/content/drive\", force_remount=True).\n"
          ],
          "name": "stdout"
        }
      ]
    },
    {
      "cell_type": "code",
      "metadata": {
        "id": "VO4fYBUe8E23",
        "colab_type": "code",
        "outputId": "64d45a0b-e9b6-475c-ab45-14b2b0449bc4",
        "colab": {
          "base_uri": "https://localhost:8080/",
          "height": 34
        }
      },
      "source": [
        "cd /content/drive/My Drive/Mr.Dat/"
      ],
      "execution_count": 0,
      "outputs": [
        {
          "output_type": "stream",
          "text": [
            "/content/drive/My Drive/Mr.Dat\n"
          ],
          "name": "stdout"
        }
      ]
    },
    {
      "cell_type": "code",
      "metadata": {
        "id": "XuPXYg228F6r",
        "colab_type": "code",
        "colab": {}
      },
      "source": [
        "import numpy as np\n",
        "import pandas as pd\n",
        "from sklearn.model_selection import train_test_split\n",
        "from sklearn.metrics import accuracy_score"
      ],
      "execution_count": 0,
      "outputs": []
    },
    {
      "cell_type": "markdown",
      "metadata": {
        "id": "N1Cf-flb4lSc",
        "colab_type": "text"
      },
      "source": [
        "# load traindf"
      ]
    },
    {
      "cell_type": "code",
      "metadata": {
        "id": "6poe3XAQ8Nmm",
        "colab_type": "code",
        "colab": {}
      },
      "source": [
        "df = pd.read_csv('data/train_df.csv')"
      ],
      "execution_count": 0,
      "outputs": []
    },
    {
      "cell_type": "code",
      "metadata": {
        "id": "fyoGxeYs8SkU",
        "colab_type": "code",
        "colab": {}
      },
      "source": [
        "# split train val\n",
        "train_df, val_df = train_test_split(df ,test_size=0.2, random_state=0, stratify=df['binaray_return_next10days'])"
      ],
      "execution_count": 0,
      "outputs": []
    },
    {
      "cell_type": "code",
      "metadata": {
        "id": "qUryWWuElGFh",
        "colab_type": "code",
        "colab": {}
      },
      "source": [
        "train_indices = train_df.index.values\n",
        "val_indices = val_df.index.values"
      ],
      "execution_count": 0,
      "outputs": []
    },
    {
      "cell_type": "code",
      "metadata": {
        "id": "Kj-_uDnH-2LP",
        "colab_type": "code",
        "outputId": "15e48696-a9ac-40fd-c735-ac3e3f99fc28",
        "colab": {
          "base_uri": "https://localhost:8080/",
          "height": 34
        }
      },
      "source": [
        "train_indices"
      ],
      "execution_count": 0,
      "outputs": [
        {
          "output_type": "execute_result",
          "data": {
            "text/plain": [
              "array([1318856, 1279718, 1397903, ...,  898869,  664293,  280221])"
            ]
          },
          "metadata": {
            "tags": []
          },
          "execution_count": 9
        }
      ]
    },
    {
      "cell_type": "code",
      "metadata": {
        "id": "4L5iYvgk8VIX",
        "colab_type": "code",
        "colab": {}
      },
      "source": [
        "cat_cols = ['assetCode']\n",
        "\n",
        "num_cols = [c for c in df.columns if c not in ['assetCode', 'time', 'returnsOpenNextMktres10',\n",
        "                                                         'date', 'binaray_return_next10days']] "
      ],
      "execution_count": 0,
      "outputs": []
    },
    {
      "cell_type": "code",
      "metadata": {
        "id": "8Z9NSJq-9oIu",
        "colab_type": "code",
        "outputId": "02e18cd1-61e3-4b92-ddca-803ef42f0736",
        "colab": {
          "base_uri": "https://localhost:8080/",
          "height": 34
        }
      },
      "source": [
        "df[num_cols].shape"
      ],
      "execution_count": 0,
      "outputs": [
        {
          "output_type": "execute_result",
          "data": {
            "text/plain": [
              "(1616666, 51)"
            ]
          },
          "metadata": {
            "tags": []
          },
          "execution_count": 11
        }
      ]
    },
    {
      "cell_type": "markdown",
      "metadata": {
        "id": "6dv5JR3Z_Z9l",
        "colab_type": "text"
      },
      "source": [
        "# prepare for NN model"
      ]
    },
    {
      "cell_type": "code",
      "metadata": {
        "id": "X3Hg_Rli9pGg",
        "colab_type": "code",
        "colab": {}
      },
      "source": [
        "def encode(encoder, x):\n",
        "    len_encoder = len(encoder)\n",
        "    try:\n",
        "        id = encoder[x]\n",
        "    except KeyError:\n",
        "        id = len_encoder\n",
        "    return id"
      ],
      "execution_count": 0,
      "outputs": []
    },
    {
      "cell_type": "code",
      "metadata": {
        "id": "Rgxr3pEl9qWK",
        "colab_type": "code",
        "outputId": "f15c2b70-34f7-454a-bdbf-9907da726c28",
        "colab": {
          "base_uri": "https://localhost:8080/",
          "height": 34
        }
      },
      "source": [
        "encoders = [{} for cat in cat_cols]\n",
        "\n",
        "for i, cat in enumerate(cat_cols):\n",
        "    print('encoding %s ...' % cat, end=' ')\n",
        "    encoders[i] = {l: id for id, l in enumerate(df.loc[train_indices, cat].astype(str).unique())}\n",
        "    df[cat] = df[cat].astype(str).apply(lambda x: encode(encoders[i], x))\n",
        "    print('Done')"
      ],
      "execution_count": 0,
      "outputs": [
        {
          "output_type": "stream",
          "text": [
            "encoding assetCode ... Done\n"
          ],
          "name": "stdout"
        }
      ]
    },
    {
      "cell_type": "code",
      "metadata": {
        "id": "0v7x6sTh9ruf",
        "colab_type": "code",
        "colab": {}
      },
      "source": [
        "embed_sizes = [len(encoder) + 1 for encoder in encoders] #+1 for possible unknown assets"
      ],
      "execution_count": 0,
      "outputs": []
    },
    {
      "cell_type": "code",
      "metadata": {
        "id": "mcW90O2w9s_w",
        "colab_type": "code",
        "outputId": "f36125ff-4d33-4197-c2e4-3833d37cd567",
        "colab": {
          "base_uri": "https://localhost:8080/",
          "height": 34
        }
      },
      "source": [
        "from sklearn.preprocessing import StandardScaler\n",
        " \n",
        "print('scaling numerical columns')\n",
        "\n",
        "scaler = StandardScaler()\n",
        "\n",
        "df[num_cols] = scaler.fit_transform(df[num_cols])"
      ],
      "execution_count": 0,
      "outputs": [
        {
          "output_type": "stream",
          "text": [
            "scaling numerical columns\n"
          ],
          "name": "stdout"
        }
      ]
    },
    {
      "cell_type": "code",
      "metadata": {
        "id": "bcflyVi69uWy",
        "colab_type": "code",
        "outputId": "86e8a4bd-c167-44c8-b865-405e7929a2a4",
        "colab": {
          "base_uri": "https://localhost:8080/",
          "height": 81
        }
      },
      "source": [
        "from keras.models import Model\n",
        "from keras.layers import Input, Dense, Embedding, Concatenate, Flatten, BatchNormalization\n",
        "from keras.losses import binary_crossentropy, mse"
      ],
      "execution_count": 0,
      "outputs": [
        {
          "output_type": "stream",
          "text": [
            "Using TensorFlow backend.\n"
          ],
          "name": "stderr"
        },
        {
          "output_type": "display_data",
          "data": {
            "text/html": [
              "<p style=\"color: red;\">\n",
              "The default version of TensorFlow in Colab will soon switch to TensorFlow 2.x.<br>\n",
              "We recommend you <a href=\"https://www.tensorflow.org/guide/migrate\" target=\"_blank\">upgrade</a> now \n",
              "or ensure your notebook will continue to use TensorFlow 1.x via the <code>%tensorflow_version 1.x</code> magic:\n",
              "<a href=\"https://colab.research.google.com/notebooks/tensorflow_version.ipynb\" target=\"_blank\">more info</a>.</p>\n"
            ],
            "text/plain": [
              "<IPython.core.display.HTML object>"
            ]
          },
          "metadata": {
            "tags": []
          }
        }
      ]
    },
    {
      "cell_type": "code",
      "metadata": {
        "id": "yetkXFGP9vsV",
        "colab_type": "code",
        "colab": {}
      },
      "source": [
        "from keras import initializers\n",
        "from keras import regularizers\n",
        "from keras import constraints\n",
        "from keras.utils import conv_utils\n",
        "from keras.utils.data_utils import get_file\n",
        "from keras.engine.topology import get_source_inputs\n",
        "from keras.engine import InputSpec\n",
        "from keras import backend as K\n",
        "from keras.layers import LeakyReLU\n",
        "from keras.layers import ZeroPadding2D\n",
        "from keras.losses import binary_crossentropy\n",
        "import keras.callbacks as callbacks\n",
        "from keras.callbacks import Callback\n",
        "from keras.applications.xception import Xception\n",
        "from keras.layers import multiply\n",
        "\n",
        "import keras\n",
        "from keras import optimizers\n",
        "from keras.legacy import interfaces\n",
        "from keras.utils.generic_utils import get_custom_objects\n",
        "\n",
        "from keras.engine.topology import Input\n",
        "from keras.engine.training import Model\n",
        "from keras.layers.convolutional import Conv2D, UpSampling2D, Conv2DTranspose\n",
        "from keras.layers.core import Activation, SpatialDropout2D\n",
        "from keras.layers.merge import concatenate\n",
        "from keras.layers.normalization import BatchNormalization\n",
        "from keras.layers.pooling import MaxPooling2D\n",
        "from keras.layers import Input,Dropout,BatchNormalization,Activation,Add\n",
        "from keras.regularizers import l2\n",
        "from keras.layers.core import Dense, Lambda\n",
        "from keras.layers.merge import concatenate, add\n",
        "from keras.layers import GlobalAveragePooling2D, Reshape, Dense, multiply, Permute\n",
        "from keras.optimizers import SGD"
      ],
      "execution_count": 0,
      "outputs": []
    },
    {
      "cell_type": "code",
      "metadata": {
        "id": "AXl_kQi19xGt",
        "colab_type": "code",
        "outputId": "841c73b0-f7a1-4011-9429-9191c71ef40c",
        "colab": {
          "base_uri": "https://localhost:8080/",
          "height": 141
        }
      },
      "source": [
        "categorical_inputs = []\n",
        "for cat in cat_cols:\n",
        "    categorical_inputs.append(Input(shape=[1], name=cat))\n",
        "\n",
        "categorical_embeddings = []\n",
        "for i, cat in enumerate(cat_cols):\n",
        "    categorical_embeddings.append(Embedding(embed_sizes[i], 10)(categorical_inputs[i]))"
      ],
      "execution_count": 0,
      "outputs": [
        {
          "output_type": "stream",
          "text": [
            "WARNING:tensorflow:From /usr/local/lib/python3.6/dist-packages/keras/backend/tensorflow_backend.py:541: The name tf.placeholder is deprecated. Please use tf.compat.v1.placeholder instead.\n",
            "\n",
            "WARNING:tensorflow:From /usr/local/lib/python3.6/dist-packages/keras/backend/tensorflow_backend.py:66: The name tf.get_default_graph is deprecated. Please use tf.compat.v1.get_default_graph instead.\n",
            "\n",
            "WARNING:tensorflow:From /usr/local/lib/python3.6/dist-packages/keras/backend/tensorflow_backend.py:4432: The name tf.random_uniform is deprecated. Please use tf.random.uniform instead.\n",
            "\n"
          ],
          "name": "stdout"
        }
      ]
    },
    {
      "cell_type": "markdown",
      "metadata": {
        "id": "PCF49ftU_oGR",
        "colab_type": "text"
      },
      "source": [
        "#  NN model"
      ]
    },
    {
      "cell_type": "code",
      "metadata": {
        "id": "ybovNKH19yB7",
        "colab_type": "code",
        "outputId": "30ab92fd-9358-4959-e9f5-fd94017fd512",
        "colab": {
          "base_uri": "https://localhost:8080/",
          "height": 245
        }
      },
      "source": [
        "#categorical_logits = Concatenate()([Flatten()(cat_emb) for cat_emb in categorical_embeddings])\n",
        "categorical_logits = Flatten()(categorical_embeddings[0])\n",
        "categorical_logits = Dense(32,activation='relu')(categorical_logits)\n",
        "categorical_logits = Dropout(0.5)(categorical_logits)\n",
        "categorical_logits = BatchNormalization()(categorical_logits)\n",
        "categorical_logits = Dense(32,activation='relu')(categorical_logits)\n",
        "\n",
        "numerical_inputs = Input(shape=(51,), name='num')\n",
        "numerical_logits = numerical_inputs\n",
        "numerical_logits = BatchNormalization()(numerical_logits)\n",
        "\n",
        "numerical_logits = Dense(128,activation='relu')(numerical_logits)\n",
        "numerical_logits = Dropout(0.5)(numerical_logits)\n",
        "numerical_logits = BatchNormalization()(numerical_logits)\n",
        "numerical_logits = Dense(128,activation='relu')(numerical_logits)\n",
        "numerical_logits = Dense(64,activation='relu')(numerical_logits)\n",
        "\n",
        "logits = Concatenate()([numerical_logits,categorical_logits])\n",
        "logits = Dense(64,activation='relu')(logits)\n",
        "out = Dense(1, activation='sigmoid')(logits)\n",
        "\n",
        "model = Model(inputs = categorical_inputs + [numerical_inputs], outputs=out)\n",
        "model.compile(optimizer='adam',loss=binary_crossentropy)"
      ],
      "execution_count": 0,
      "outputs": [
        {
          "output_type": "stream",
          "text": [
            "WARNING:tensorflow:From /usr/local/lib/python3.6/dist-packages/keras/backend/tensorflow_backend.py:148: The name tf.placeholder_with_default is deprecated. Please use tf.compat.v1.placeholder_with_default instead.\n",
            "\n",
            "WARNING:tensorflow:From /usr/local/lib/python3.6/dist-packages/keras/backend/tensorflow_backend.py:3733: calling dropout (from tensorflow.python.ops.nn_ops) with keep_prob is deprecated and will be removed in a future version.\n",
            "Instructions for updating:\n",
            "Please use `rate` instead of `keep_prob`. Rate should be set to `rate = 1 - keep_prob`.\n",
            "WARNING:tensorflow:From /usr/local/lib/python3.6/dist-packages/keras/optimizers.py:793: The name tf.train.Optimizer is deprecated. Please use tf.compat.v1.train.Optimizer instead.\n",
            "\n",
            "WARNING:tensorflow:From /usr/local/lib/python3.6/dist-packages/keras/backend/tensorflow_backend.py:3657: The name tf.log is deprecated. Please use tf.math.log instead.\n",
            "\n",
            "WARNING:tensorflow:From /usr/local/lib/python3.6/dist-packages/tensorflow_core/python/ops/nn_impl.py:183: where (from tensorflow.python.ops.array_ops) is deprecated and will be removed in a future version.\n",
            "Instructions for updating:\n",
            "Use tf.where in 2.0, which has the same broadcast rule as np.where\n"
          ],
          "name": "stdout"
        }
      ]
    },
    {
      "cell_type": "code",
      "metadata": {
        "id": "znKfonHX9zVa",
        "colab_type": "code",
        "colab": {}
      },
      "source": [
        "def get_input_NN(market_train, indices):\n",
        "    X_num = market_train.loc[indices, num_cols].values\n",
        "    X = {'num':X_num}\n",
        "    for cat in cat_cols:\n",
        "        X[cat] = market_train.loc[indices, cat_cols].values\n",
        "    y = (market_train.loc[indices,'returnsOpenNextMktres10'] >= 0).values\n",
        "    r = market_train.loc[indices,'returnsOpenNextMktres10'].values\n",
        "    # u = market_train.loc[indices, 'universe']\n",
        "    d = market_train.loc[indices, 'time'].dt.date\n",
        "    return X,y,r,d"
      ],
      "execution_count": 0,
      "outputs": []
    },
    {
      "cell_type": "code",
      "metadata": {
        "id": "HTVBJN7N90zK",
        "colab_type": "code",
        "outputId": "b8137118-b84c-4820-bb81-38afb20d53a1",
        "colab": {
          "base_uri": "https://localhost:8080/",
          "height": 118
        }
      },
      "source": [
        "df.head(1)"
      ],
      "execution_count": 0,
      "outputs": [
        {
          "output_type": "execute_result",
          "data": {
            "text/html": [
              "<div>\n",
              "<style scoped>\n",
              "    .dataframe tbody tr th:only-of-type {\n",
              "        vertical-align: middle;\n",
              "    }\n",
              "\n",
              "    .dataframe tbody tr th {\n",
              "        vertical-align: top;\n",
              "    }\n",
              "\n",
              "    .dataframe thead th {\n",
              "        text-align: right;\n",
              "    }\n",
              "</style>\n",
              "<table border=\"1\" class=\"dataframe\">\n",
              "  <thead>\n",
              "    <tr style=\"text-align: right;\">\n",
              "      <th></th>\n",
              "      <th>returnsClosePrevRaw10</th>\n",
              "      <th>returnsClosePrevMktres10</th>\n",
              "      <th>close</th>\n",
              "      <th>assetCode</th>\n",
              "      <th>month</th>\n",
              "      <th>close_ma14</th>\n",
              "      <th>close_ma200</th>\n",
              "      <th>close_ma30</th>\n",
              "      <th>volume</th>\n",
              "      <th>close_ma50</th>\n",
              "      <th>returnsClosePrevMktres1</th>\n",
              "      <th>returnsClosePrevRaw1</th>\n",
              "      <th>returnsOpenPrevRaw1</th>\n",
              "      <th>vol_pct_10</th>\n",
              "      <th>day</th>\n",
              "      <th>quarter</th>\n",
              "      <th>time</th>\n",
              "      <th>mom1</th>\n",
              "      <th>mom2</th>\n",
              "      <th>mom3</th>\n",
              "      <th>mom4</th>\n",
              "      <th>mom5</th>\n",
              "      <th>mom10</th>\n",
              "      <th>volatility_50</th>\n",
              "      <th>volatility_31</th>\n",
              "      <th>volatility_15</th>\n",
              "      <th>returnsOpenNextMktres10</th>\n",
              "      <th>date</th>\n",
              "      <th>sourceId_mean</th>\n",
              "      <th>urgency_mean</th>\n",
              "      <th>takeSequence_mean</th>\n",
              "      <th>provider_mean</th>\n",
              "      <th>bodySize_mean</th>\n",
              "      <th>companyCount_mean</th>\n",
              "      <th>headlineTag_mean</th>\n",
              "      <th>marketCommentary_mean</th>\n",
              "      <th>sentenceCount_mean</th>\n",
              "      <th>wordCount_mean</th>\n",
              "      <th>firstMentionSentence_mean</th>\n",
              "      <th>relevance_mean</th>\n",
              "      <th>sentimentClass_mean</th>\n",
              "      <th>sentimentNegative_mean</th>\n",
              "      <th>sentimentNeutral_mean</th>\n",
              "      <th>sentimentPositive_mean</th>\n",
              "      <th>sentimentWordCount_mean</th>\n",
              "      <th>noveltyCount12H_mean</th>\n",
              "      <th>noveltyCount24H_mean</th>\n",
              "      <th>noveltyCount3D_mean</th>\n",
              "      <th>noveltyCount5D_mean</th>\n",
              "      <th>noveltyCount7D_mean</th>\n",
              "      <th>volumeCounts12H_mean</th>\n",
              "      <th>volumeCounts24H_mean</th>\n",
              "      <th>volumeCounts3D_mean</th>\n",
              "      <th>volumeCounts5D_mean</th>\n",
              "      <th>volumeCounts7D_mean</th>\n",
              "      <th>binaray_return_next10days</th>\n",
              "    </tr>\n",
              "  </thead>\n",
              "  <tbody>\n",
              "    <tr>\n",
              "      <th>0</th>\n",
              "      <td>-1.678704</td>\n",
              "      <td>-0.091687</td>\n",
              "      <td>-0.414824</td>\n",
              "      <td>1548</td>\n",
              "      <td>1.266603</td>\n",
              "      <td>-0.370349</td>\n",
              "      <td>-0.321267</td>\n",
              "      <td>-0.340451</td>\n",
              "      <td>-0.299967</td>\n",
              "      <td>-0.31206</td>\n",
              "      <td>2.061831</td>\n",
              "      <td>3.540499</td>\n",
              "      <td>-0.005156</td>\n",
              "      <td>-0.004122</td>\n",
              "      <td>1.416201</td>\n",
              "      <td>1.306291</td>\n",
              "      <td>2008-11-21 22:00:00+00:00</td>\n",
              "      <td>3.135108</td>\n",
              "      <td>1.070275</td>\n",
              "      <td>-0.696409</td>\n",
              "      <td>-0.862661</td>\n",
              "      <td>-0.590514</td>\n",
              "      <td>-1.500523</td>\n",
              "      <td>1.215905</td>\n",
              "      <td>1.433635</td>\n",
              "      <td>1.268212</td>\n",
              "      <td>-0.01048</td>\n",
              "      <td>2008-11-21</td>\n",
              "      <td>0.025231</td>\n",
              "      <td>0.34303</td>\n",
              "      <td>-0.175877</td>\n",
              "      <td>-0.19444</td>\n",
              "      <td>-0.123699</td>\n",
              "      <td>-0.19667</td>\n",
              "      <td>-0.257741</td>\n",
              "      <td>-0.147062</td>\n",
              "      <td>-0.447393</td>\n",
              "      <td>-0.452786</td>\n",
              "      <td>-0.278451</td>\n",
              "      <td>-0.631084</td>\n",
              "      <td>-0.150423</td>\n",
              "      <td>-0.186946</td>\n",
              "      <td>-0.093147</td>\n",
              "      <td>-0.075628</td>\n",
              "      <td>-0.168561</td>\n",
              "      <td>-0.252412</td>\n",
              "      <td>-0.232637</td>\n",
              "      <td>-0.13469</td>\n",
              "      <td>-0.110476</td>\n",
              "      <td>-0.093642</td>\n",
              "      <td>-0.192381</td>\n",
              "      <td>-0.172545</td>\n",
              "      <td>-0.186148</td>\n",
              "      <td>-0.183155</td>\n",
              "      <td>-0.184587</td>\n",
              "      <td>False</td>\n",
              "    </tr>\n",
              "  </tbody>\n",
              "</table>\n",
              "</div>"
            ],
            "text/plain": [
              "   returnsClosePrevRaw10  ...  binaray_return_next10days\n",
              "0              -1.678704  ...                      False\n",
              "\n",
              "[1 rows x 56 columns]"
            ]
          },
          "metadata": {
            "tags": []
          },
          "execution_count": 21
        }
      ]
    },
    {
      "cell_type": "code",
      "metadata": {
        "id": "E3161vPF91rz",
        "colab_type": "code",
        "colab": {}
      },
      "source": [
        "df['time'] = pd.to_datetime(df['time'], errors='coerce')"
      ],
      "execution_count": 0,
      "outputs": []
    },
    {
      "cell_type": "code",
      "metadata": {
        "id": "wlkvYjGD949-",
        "colab_type": "code",
        "colab": {}
      },
      "source": [
        "X_train,y_train,r_train,d_train = get_input_NN(df, train_indices)\n",
        "X_valid,y_valid,r_valid,d_valid = get_input_NN(df, val_indices) "
      ],
      "execution_count": 0,
      "outputs": []
    },
    {
      "cell_type": "code",
      "metadata": {
        "id": "QnJeqOMu96Xs",
        "colab_type": "code",
        "colab": {}
      },
      "source": [
        "# https://www.kaggle.com/guowenrui/market-nn-if-you-like-you-can-use-it-and-upvote\n",
        "class SWA(keras.callbacks.Callback):\n",
        "    \n",
        "    def __init__(self, filepath, swa_epoch):\n",
        "        super(SWA, self).__init__()\n",
        "        self.filepath = filepath\n",
        "        self.swa_epoch = swa_epoch \n",
        "    \n",
        "    def on_train_begin(self, logs=None):\n",
        "        self.nb_epoch = self.params['epochs']\n",
        "        print('Stochastic weight averaging selected for last {} epochs.'\n",
        "              .format(self.nb_epoch - self.swa_epoch))\n",
        "        \n",
        "    def on_epoch_end(self, epoch, logs=None):\n",
        "        \n",
        "        if epoch == self.swa_epoch:\n",
        "            self.swa_weights = self.model.get_weights()\n",
        "            \n",
        "        elif epoch > self.swa_epoch:    \n",
        "            for i in range(len(self.swa_weights)):\n",
        "                self.swa_weights[i] = (self.swa_weights[i] * \n",
        "                    (epoch - self.swa_epoch) + self.model.get_weights()[i])/((epoch - self.swa_epoch)  + 1)  \n",
        "\n",
        "        else:\n",
        "            pass\n",
        "        \n",
        "    def on_train_end(self, logs=None):\n",
        "        self.model.set_weights(self.swa_weights)\n",
        "        print('Final model parameters set to stochastic weight average.')\n",
        "        self.model.save_weights(self.filepath)\n",
        "        print('Final stochastic averaged weights saved to file.')\n",
        "        \n",
        "class SnapshotCallbackBuilder:\n",
        "    def __init__(self, nb_epochs, nb_snapshots, init_lr=0.1):\n",
        "        self.T = nb_epochs\n",
        "        self.M = nb_snapshots\n",
        "        self.alpha_zero = init_lr\n",
        "\n",
        "    def get_callbacks(self, model_prefix='Model'):\n",
        "\n",
        "        callback_list = [\n",
        "            callbacks.ModelCheckpoint(\"model.hdf5\",monitor='val_my_iou_metric', \n",
        "                                   mode = 'max', save_best_only=True, verbose=1),\n",
        "            swa,\n",
        "            callbacks.LearningRateScheduler(schedule=self._cosine_anneal_schedule)\n",
        "        ]\n",
        "\n",
        "        return callback_list\n",
        "\n",
        "    def _cosine_anneal_schedule(self, t):\n",
        "        cos_inner = np.pi * (t % (self.T // self.M))  # t - 1 is used when t has 1-based indexing.\n",
        "        cos_inner /= self.T // self.M\n",
        "        cos_out = np.cos(cos_inner) + 1\n",
        "        return float(self.alpha_zero / 2 * cos_out)"
      ],
      "execution_count": 0,
      "outputs": []
    },
    {
      "cell_type": "code",
      "metadata": {
        "id": "FsIp5FMl97OM",
        "colab_type": "code",
        "outputId": "c0422828-9cbe-445e-94d0-b6bb653cd08a",
        "colab": {
          "base_uri": "https://localhost:8080/",
          "height": 1000
        }
      },
      "source": [
        "from keras.callbacks import EarlyStopping, ModelCheckpoint, ReduceLROnPlateau\n",
        "\n",
        "check_point = ModelCheckpoint('models/nn_model.hdf5',verbose=True, save_best_only=True)\n",
        "early_stop = EarlyStopping(patience=5,verbose=True)\n",
        "model.fit(X_train,y_train.astype(int),\n",
        "          validation_data=(X_valid,y_valid.astype(int)),\n",
        "          epochs=50,\n",
        "          verbose=True,\n",
        "          callbacks=[early_stop,check_point]) "
      ],
      "execution_count": 0,
      "outputs": [
        {
          "output_type": "stream",
          "text": [
            "WARNING:tensorflow:From /usr/local/lib/python3.6/dist-packages/keras/backend/tensorflow_backend.py:1033: The name tf.assign_add is deprecated. Please use tf.compat.v1.assign_add instead.\n",
            "\n",
            "WARNING:tensorflow:From /usr/local/lib/python3.6/dist-packages/keras/backend/tensorflow_backend.py:1020: The name tf.assign is deprecated. Please use tf.compat.v1.assign instead.\n",
            "\n",
            "WARNING:tensorflow:From /usr/local/lib/python3.6/dist-packages/keras/backend/tensorflow_backend.py:3005: The name tf.Session is deprecated. Please use tf.compat.v1.Session instead.\n",
            "\n",
            "Train on 1293332 samples, validate on 323334 samples\n",
            "Epoch 1/50\n",
            "WARNING:tensorflow:From /usr/local/lib/python3.6/dist-packages/keras/backend/tensorflow_backend.py:190: The name tf.get_default_session is deprecated. Please use tf.compat.v1.get_default_session instead.\n",
            "\n",
            "WARNING:tensorflow:From /usr/local/lib/python3.6/dist-packages/keras/backend/tensorflow_backend.py:197: The name tf.ConfigProto is deprecated. Please use tf.compat.v1.ConfigProto instead.\n",
            "\n",
            "WARNING:tensorflow:From /usr/local/lib/python3.6/dist-packages/keras/backend/tensorflow_backend.py:207: The name tf.global_variables is deprecated. Please use tf.compat.v1.global_variables instead.\n",
            "\n",
            "WARNING:tensorflow:From /usr/local/lib/python3.6/dist-packages/keras/backend/tensorflow_backend.py:216: The name tf.is_variable_initialized is deprecated. Please use tf.compat.v1.is_variable_initialized instead.\n",
            "\n",
            "WARNING:tensorflow:From /usr/local/lib/python3.6/dist-packages/keras/backend/tensorflow_backend.py:223: The name tf.variables_initializer is deprecated. Please use tf.compat.v1.variables_initializer instead.\n",
            "\n",
            "1293332/1293332 [==============================] - 358s 277us/step - loss: 0.6875 - val_loss: 0.6849\n",
            "\n",
            "Epoch 00001: val_loss improved from inf to 0.68487, saving model to model.hdf5\n",
            "Epoch 2/50\n",
            "1293332/1293332 [==============================] - 350s 270us/step - loss: 0.6848 - val_loss: 0.6852\n",
            "\n",
            "Epoch 00002: val_loss did not improve from 0.68487\n",
            "Epoch 3/50\n",
            "1293332/1293332 [==============================] - 353s 273us/step - loss: 0.6839 - val_loss: 0.6843\n",
            "\n",
            "Epoch 00003: val_loss improved from 0.68487 to 0.68429, saving model to model.hdf5\n",
            "Epoch 4/50\n",
            "1293332/1293332 [==============================] - 347s 269us/step - loss: 0.6836 - val_loss: 0.6830\n",
            "\n",
            "Epoch 00004: val_loss improved from 0.68429 to 0.68301, saving model to model.hdf5\n",
            "Epoch 5/50\n",
            "1293332/1293332 [==============================] - 352s 272us/step - loss: 0.6833 - val_loss: 0.6834\n",
            "\n",
            "Epoch 00005: val_loss did not improve from 0.68301\n",
            "Epoch 6/50\n",
            "1293332/1293332 [==============================] - 355s 275us/step - loss: 0.6829 - val_loss: 0.6828\n",
            "\n",
            "Epoch 00006: val_loss improved from 0.68301 to 0.68285, saving model to model.hdf5\n",
            "Epoch 7/50\n",
            "1293332/1293332 [==============================] - 353s 273us/step - loss: 0.6828 - val_loss: 0.6839\n",
            "\n",
            "Epoch 00007: val_loss did not improve from 0.68285\n",
            "Epoch 8/50\n",
            "1293332/1293332 [==============================] - 354s 273us/step - loss: 0.6827 - val_loss: 0.6838\n",
            "\n",
            "Epoch 00008: val_loss did not improve from 0.68285\n",
            "Epoch 9/50\n",
            "1293332/1293332 [==============================] - 347s 268us/step - loss: 0.6826 - val_loss: 0.6853\n",
            "\n",
            "Epoch 00009: val_loss did not improve from 0.68285\n",
            "Epoch 10/50\n",
            "1293332/1293332 [==============================] - 352s 272us/step - loss: 0.6825 - val_loss: 0.6841\n",
            "\n",
            "Epoch 00010: val_loss did not improve from 0.68285\n",
            "Epoch 11/50\n",
            "1293332/1293332 [==============================] - 348s 269us/step - loss: 0.6823 - val_loss: 0.6826\n",
            "\n",
            "Epoch 00011: val_loss improved from 0.68285 to 0.68260, saving model to model.hdf5\n",
            "Epoch 12/50\n",
            "1293332/1293332 [==============================] - 346s 268us/step - loss: 0.6821 - val_loss: 0.6827\n",
            "\n",
            "Epoch 00012: val_loss did not improve from 0.68260\n",
            "Epoch 13/50\n",
            "1293332/1293332 [==============================] - 344s 266us/step - loss: 0.6821 - val_loss: 0.6840\n",
            "\n",
            "Epoch 00013: val_loss did not improve from 0.68260\n",
            "Epoch 14/50\n",
            "1293332/1293332 [==============================] - 350s 270us/step - loss: 0.6820 - val_loss: 0.6851\n",
            "\n",
            "Epoch 00014: val_loss did not improve from 0.68260\n",
            "Epoch 15/50\n",
            "1293332/1293332 [==============================] - 353s 273us/step - loss: 0.6819 - val_loss: 0.6831\n",
            "\n",
            "Epoch 00015: val_loss did not improve from 0.68260\n",
            "Epoch 16/50\n",
            "1293332/1293332 [==============================] - 357s 276us/step - loss: 0.6818 - val_loss: 0.6842\n",
            "\n",
            "Epoch 00016: val_loss did not improve from 0.68260\n",
            "Epoch 00016: early stopping\n"
          ],
          "name": "stdout"
        },
        {
          "output_type": "execute_result",
          "data": {
            "text/plain": [
              "<keras.callbacks.History at 0x7f06368f20f0>"
            ]
          },
          "metadata": {
            "tags": []
          },
          "execution_count": 25
        }
      ]
    },
    {
      "cell_type": "code",
      "metadata": {
        "id": "vBxHlJzV97ru",
        "colab_type": "code",
        "outputId": "46e91c58-5e85-44b1-a869-fc77dbe392f6",
        "colab": {
          "base_uri": "https://localhost:8080/",
          "height": 34
        }
      },
      "source": [
        "confidence_train = model.predict(X_train)[:,0]*2 -1\n",
        "print(accuracy_score(confidence_train>0,y_train))"
      ],
      "execution_count": 0,
      "outputs": [
        {
          "output_type": "stream",
          "text": [
            "0.5647281595135665\n"
          ],
          "name": "stdout"
        }
      ]
    },
    {
      "cell_type": "code",
      "metadata": {
        "id": "Xoxo1VQJ99Ho",
        "colab_type": "code",
        "outputId": "991e3828-c26c-44bc-e663-364ab8295446",
        "colab": {
          "base_uri": "https://localhost:8080/",
          "height": 34
        }
      },
      "source": [
        "# calculation of actual metric that is used to calculate final score\n",
        "r_train = r_train.clip(-1,1) # get rid of outliers. Where do they come from??\n",
        "x_t_i = confidence_train * r_train\n",
        "data = {'day' : d_train, 'x_t_i' : x_t_i}\n",
        "df = pd.DataFrame(data)\n",
        "x_t = df.groupby('day').sum().values.flatten()\n",
        "mean = np.mean(x_t)\n",
        "std = np.std(x_t)\n",
        "score_train = mean / std\n",
        "print(score_train)"
      ],
      "execution_count": 0,
      "outputs": [
        {
          "output_type": "stream",
          "text": [
            "0.636767474508515\n"
          ],
          "name": "stdout"
        }
      ]
    },
    {
      "cell_type": "code",
      "metadata": {
        "id": "SfttsG6V-DPi",
        "colab_type": "code",
        "colab": {}
      },
      "source": [
        "del data\n",
        "del df\n",
        "del x_t\n",
        "del mean\n",
        "del std"
      ],
      "execution_count": 0,
      "outputs": []
    },
    {
      "cell_type": "code",
      "metadata": {
        "id": "FtH4vDRU-Ef-",
        "colab_type": "code",
        "outputId": "15873619-72ea-489f-b231-cf76b6a45dde",
        "colab": {
          "base_uri": "https://localhost:8080/",
          "height": 34
        }
      },
      "source": [
        "confidence_valid = model.predict(X_valid)[:,0]*2 -1\n",
        "print(accuracy_score(confidence_valid>0,y_valid))"
      ],
      "execution_count": 0,
      "outputs": [
        {
          "output_type": "stream",
          "text": [
            "0.5607699777938602\n"
          ],
          "name": "stdout"
        }
      ]
    },
    {
      "cell_type": "code",
      "metadata": {
        "id": "-xy-032T-Fj2",
        "colab_type": "code",
        "outputId": "0a8979cf-694a-48ec-c5be-9635b405acd9",
        "colab": {
          "base_uri": "https://localhost:8080/",
          "height": 34
        }
      },
      "source": [
        "# calculation of actual metric that is used to calculate final score\n",
        "r_valid = r_valid.clip(-1,1) # get rid of outliers. Where do they come from??\n",
        "x_t_i = confidence_valid * r_valid\n",
        "data = {'day' : d_valid, 'x_t_i' : x_t_i}\n",
        "df = pd.DataFrame(data)\n",
        "x_t = df.groupby('day').sum().values.flatten()\n",
        "mean = np.mean(x_t)\n",
        "std = np.std(x_t)\n",
        "score_valid = mean / std\n",
        "print(score_valid)"
      ],
      "execution_count": 0,
      "outputs": [
        {
          "output_type": "stream",
          "text": [
            "0.5352121442981461\n"
          ],
          "name": "stdout"
        }
      ]
    },
    {
      "cell_type": "markdown",
      "metadata": {
        "id": "0l3Cy_rZB5ow",
        "colab_type": "text"
      },
      "source": [
        "# lgb"
      ]
    },
    {
      "cell_type": "code",
      "metadata": {
        "id": "gi4yCSwumJQa",
        "colab_type": "code",
        "colab": {}
      },
      "source": [
        "def get_input_lgb(df):\n",
        "    X = df[num_cols].values\n",
        "    y = df.binaray_return_next10days.values\n",
        "    r = df.returnsOpenNextMktres10.values\n",
        "    d = df.time.dt.date\n",
        "    return X,y,r,d"
      ],
      "execution_count": 0,
      "outputs": []
    },
    {
      "cell_type": "code",
      "metadata": {
        "id": "Aw0WDZgcpeJU",
        "colab_type": "code",
        "colab": {}
      },
      "source": [
        "train_df['time'] = pd.to_datetime(train_df['time'], errors='coerce')\n",
        "val_df['time'] = pd.to_datetime(val_df['time'], errors='coerce')"
      ],
      "execution_count": 0,
      "outputs": []
    },
    {
      "cell_type": "code",
      "metadata": {
        "id": "sVqlW5KLmz07",
        "colab_type": "code",
        "colab": {}
      },
      "source": [
        "X_train,y_train,r_train,d_train = get_input_lgb(train_df)\n",
        "X_valid,y_valid,r_valid,d_valid = get_input_lgb(val_df) "
      ],
      "execution_count": 0,
      "outputs": []
    },
    {
      "cell_type": "code",
      "metadata": {
        "id": "8f1gDa34B85-",
        "colab_type": "code",
        "colab": {}
      },
      "source": [
        "import lightgbm as lgb\n",
        "x_1 = [0.07, 2000, 212, 100, 202]\n",
        "x_2 = [0.1, 2400, 213, 100, 220]\n",
        "\n",
        "params_1 = {\n",
        "        'task': 'train',\n",
        "        'boosting_type': 'dart',\n",
        "        'objective': 'binary',\n",
        "        'n_estimators': 500,\n",
        "        'learning_rate': x_1[0],\n",
        "        'num_leaves': x_1[1],\n",
        "        'min_data_in_leaf': x_1[2],\n",
        "        'num_iteration': x_1[3],\n",
        "        'max_bin': x_1[4],\n",
        "        'reg_alpha' : 0.01,\n",
        "        'reg_lambda' : 0.01,\n",
        "        'verbose': 1\n",
        "    }\n",
        "\n",
        "params_2 = {\n",
        "        'task': 'train',\n",
        "        'boosting_type': 'dart',\n",
        "        'n_estimators': 500,\n",
        "        'objective': 'binary',\n",
        "        'learning_rate': x_2[0],\n",
        "        'num_leaves': x_2[1],\n",
        "        'min_data_in_leaf': x_2[2],\n",
        "        'num_iteration': x_2[3],\n",
        "        'max_bin': x_2[4],\n",
        "        'reg_alpha' : 0.01,\n",
        "        'reg_lambda' : 0.01,\n",
        "        'verbose': 1\n",
        "    }"
      ],
      "execution_count": 0,
      "outputs": []
    },
    {
      "cell_type": "code",
      "metadata": {
        "id": "w60rAgnDdAPS",
        "colab_type": "code",
        "colab": {}
      },
      "source": [
        ""
      ],
      "execution_count": 0,
      "outputs": []
    },
    {
      "cell_type": "code",
      "metadata": {
        "id": "ArSh0AcvCK4q",
        "colab_type": "code",
        "outputId": "ae0c3992-dc63-4131-d85b-3da9523f2ab2",
        "colab": {
          "base_uri": "https://localhost:8080/",
          "height": 434
        }
      },
      "source": [
        "lgb1 = lgb.train(params_1, train_set=lgb.Dataset(X_train, label=y_train), num_boost_round=120,\n",
        "                  valid_sets=lgb.Dataset(X_valid, label=y_valid),\n",
        "                  verbose_eval=10, early_stopping_rounds=5)\n",
        "\n",
        "lgb2 = lgb.train(params_2, train_set=lgb.Dataset(X_train, label=y_train), num_boost_round=120,\n",
        "                  valid_sets=lgb.Dataset(X_valid, label=y_valid),\n",
        "                  verbose_eval=10, early_stopping_rounds=5)"
      ],
      "execution_count": 0,
      "outputs": [
        {
          "output_type": "stream",
          "text": [
            "/usr/local/lib/python3.6/dist-packages/lightgbm/engine.py:118: UserWarning: Found `num_iteration` in params. Will use it instead of argument\n",
            "  warnings.warn(\"Found `{}` in params. Will use it instead of argument\".format(alias))\n",
            "/usr/local/lib/python3.6/dist-packages/lightgbm/callback.py:189: UserWarning: Early stopping is not available in dart mode\n",
            "  warnings.warn('Early stopping is not available in dart mode')\n"
          ],
          "name": "stderr"
        },
        {
          "output_type": "stream",
          "text": [
            "[10]\tvalid_0's binary_logloss: 0.684817\n",
            "[20]\tvalid_0's binary_logloss: 0.680775\n",
            "[30]\tvalid_0's binary_logloss: 0.678068\n",
            "[40]\tvalid_0's binary_logloss: 0.676325\n",
            "[50]\tvalid_0's binary_logloss: 0.675907\n",
            "[60]\tvalid_0's binary_logloss: 0.67523\n",
            "[70]\tvalid_0's binary_logloss: 0.674561\n",
            "[80]\tvalid_0's binary_logloss: 0.673882\n",
            "[90]\tvalid_0's binary_logloss: 0.673976\n",
            "[100]\tvalid_0's binary_logloss: 0.67347\n",
            "[10]\tvalid_0's binary_logloss: 0.682739\n",
            "[20]\tvalid_0's binary_logloss: 0.678013\n",
            "[30]\tvalid_0's binary_logloss: 0.674409\n",
            "[40]\tvalid_0's binary_logloss: 0.672407\n",
            "[50]\tvalid_0's binary_logloss: 0.671942\n",
            "[60]\tvalid_0's binary_logloss: 0.670743\n",
            "[70]\tvalid_0's binary_logloss: 0.670287\n",
            "[80]\tvalid_0's binary_logloss: 0.669465\n",
            "[90]\tvalid_0's binary_logloss: 0.669459\n",
            "[100]\tvalid_0's binary_logloss: 0.668789\n"
          ],
          "name": "stdout"
        }
      ]
    },
    {
      "cell_type": "markdown",
      "metadata": {
        "id": "TM5ZxWSfkUlJ",
        "colab_type": "text"
      },
      "source": [
        "# saving lgb"
      ]
    },
    {
      "cell_type": "code",
      "metadata": {
        "id": "G8S6D2Oy3QU9",
        "colab_type": "code",
        "outputId": "8b0f884b-24de-4d53-93fa-80be7f58e876",
        "colab": {
          "base_uri": "https://localhost:8080/",
          "height": 34
        }
      },
      "source": [
        "lgb1.save_model('models/lgb1.txt')\n",
        "lgb2.save_model('models/lgb2.txt')"
      ],
      "execution_count": 0,
      "outputs": [
        {
          "output_type": "execute_result",
          "data": {
            "text/plain": [
              "<lightgbm.basic.Booster at 0x7f062f5b4eb8>"
            ]
          },
          "metadata": {
            "tags": []
          },
          "execution_count": 54
        }
      ]
    },
    {
      "cell_type": "markdown",
      "metadata": {
        "id": "DCE5IHdjo-8G",
        "colab_type": "text"
      },
      "source": [
        "# Result on Training data"
      ]
    },
    {
      "cell_type": "code",
      "metadata": {
        "id": "dUDH-jvBtjj_",
        "colab_type": "code",
        "colab": {}
      },
      "source": [
        "import matplotlib.pyplot as plt"
      ],
      "execution_count": 0,
      "outputs": []
    },
    {
      "cell_type": "code",
      "metadata": {
        "id": "fevQb43ms5oU",
        "colab_type": "code",
        "outputId": "d33ee2b0-aa7b-42cc-d1fb-90532b403057",
        "colab": {
          "base_uri": "https://localhost:8080/",
          "height": 298
        }
      },
      "source": [
        "# distribution of confidence that will be used as submission\n",
        "confidence_train_lgb1= lgb1.predict(X_train)*2 -1\n",
        "print(accuracy_score(confidence_train_lgb1>0,y_train))\n",
        "plt.hist(confidence_train_lgb1, bins='auto')\n",
        "plt.title(\"train predicted confidence lg1\")\n",
        "plt.show()"
      ],
      "execution_count": 0,
      "outputs": [
        {
          "output_type": "stream",
          "text": [
            "0.6934862819446206\n"
          ],
          "name": "stdout"
        },
        {
          "output_type": "display_data",
          "data": {
            "image/png": "[encoded data removed]",
            "text/plain": [
              "<Figure size 432x288 with 1 Axes>"
            ]
          },
          "metadata": {
            "tags": []
          }
        }
      ]
    },
    {
      "cell_type": "code",
      "metadata": {
        "id": "zTtw8BVkvIn-",
        "colab_type": "code",
        "outputId": "7cdfb0ef-7b33-46ae-f7f1-bc292583ed81",
        "colab": {
          "base_uri": "https://localhost:8080/",
          "height": 298
        }
      },
      "source": [
        "# distribution of confidence that will be used as submission\n",
        "confidence_train_lgb2= lgb2.predict(X_train)*2 -1\n",
        "print(accuracy_score(confidence_train_lgb2>0,y_train))\n",
        "plt.hist(confidence_train_lgb2, bins='auto')\n",
        "plt.title(\"train predicted confidence_train_lgb2\")\n",
        "plt.show()"
      ],
      "execution_count": 0,
      "outputs": [
        {
          "output_type": "stream",
          "text": [
            "0.74254019849505\n"
          ],
          "name": "stdout"
        },
        {
          "output_type": "display_data",
          "data": {
            "image/png": "[encoded data removed]",
            "text/plain": [
              "<Figure size 432x288 with 1 Axes>"
            ]
          },
          "metadata": {
            "tags": []
          }
        }
      ]
    },
    {
      "cell_type": "code",
      "metadata": {
        "id": "aBf30-YBt3DO",
        "colab_type": "code",
        "outputId": "fde32ad3-ff67-436c-8e13-6e69f06e4344",
        "colab": {
          "base_uri": "https://localhost:8080/",
          "height": 34
        }
      },
      "source": [
        "# calculation of actual metric that is used to calculate final score\n",
        "r_train = r_train.clip(-1,1) # get rid of outliers. Where do they come from??\n",
        "x_t_i = confidence_train_lgb1 * r_train\n",
        "data = {'day' : d_train, 'x_t_i' : x_t_i}\n",
        "df = pd.DataFrame(data)\n",
        "x_t = df.groupby('day').sum().values.flatten()\n",
        "mean = np.mean(x_t)\n",
        "std = np.std(x_t)\n",
        "score_train = mean / std\n",
        "print(score_train)"
      ],
      "execution_count": 0,
      "outputs": [
        {
          "output_type": "stream",
          "text": [
            "1.4685830548680001\n"
          ],
          "name": "stdout"
        }
      ]
    },
    {
      "cell_type": "code",
      "metadata": {
        "id": "rRJXRjfzs61y",
        "colab_type": "code",
        "outputId": "a3218242-cd64-489c-a13a-4e301e6063ca",
        "colab": {
          "base_uri": "https://localhost:8080/",
          "height": 298
        }
      },
      "source": [
        "# distribution of confidence that will be used as submission\n",
        "confidence_valid= lgb1.predict(X_valid)*2 -1\n",
        "print(accuracy_score(confidence_valid>0,y_valid))\n",
        "plt.hist(confidence_valid, bins='auto')\n",
        "plt.title(\"valid predicted confidence\")\n",
        "plt.show()"
      ],
      "execution_count": 0,
      "outputs": [
        {
          "output_type": "stream",
          "text": [
            "0.5810585957554727\n"
          ],
          "name": "stdout"
        },
        {
          "output_type": "display_data",
          "data": {
            "image/png": "[encoded data removed]",
            "text/plain": [
              "<Figure size 432x288 with 1 Axes>"
            ]
          },
          "metadata": {
            "tags": []
          }
        }
      ]
    },
    {
      "cell_type": "code",
      "metadata": {
        "id": "CrptHztWt0ig",
        "colab_type": "code",
        "outputId": "17adc482-fd7a-4a09-9df7-7c832196a2d4",
        "colab": {
          "base_uri": "https://localhost:8080/",
          "height": 34
        }
      },
      "source": [
        "# calculation of actual metric that is used to calculate final score\n",
        "r_valid = r_valid.clip(-1,1) # get rid of outliers. Where do they come from??\n",
        "x_t_i = confidence_valid * r_valid\n",
        "data = {'day' : d_valid, 'x_t_i' : x_t_i}\n",
        "df = pd.DataFrame(data)\n",
        "x_t = df.groupby('day').sum().values.flatten()\n",
        "mean = np.mean(x_t)\n",
        "std = np.std(x_t)\n",
        "score_valid = mean / std\n",
        "print(score_valid)"
      ],
      "execution_count": 0,
      "outputs": [
        {
          "output_type": "stream",
          "text": [
            "0.8322760093328778\n"
          ],
          "name": "stdout"
        }
      ]
    }
  ]
}